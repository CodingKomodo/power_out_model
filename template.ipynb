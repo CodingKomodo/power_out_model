{
 "cells": [
  {
   "cell_type": "markdown",
   "metadata": {},
   "source": [
    "# Predicting the Cause of Power Outages\n",
    "\n",
    "**Name(s)**: Ethan Cao\n",
    "\n",
    "**Website Link**: https://codingkomodo.github.io/power_out_model/"
   ]
  },
  {
   "cell_type": "markdown",
   "metadata": {},
   "source": [
    "## Code"
   ]
  },
  {
   "cell_type": "code",
   "execution_count": 384,
   "metadata": {
    "ExecuteTime": {
     "end_time": "2019-10-31T23:36:28.652554Z",
     "start_time": "2019-10-31T23:36:27.180520Z"
    }
   },
   "outputs": [],
   "source": [
    "#Import Necessary Libraries\n",
    "import pandas as pd\n",
    "import numpy as np\n",
    "\n",
    "import plotly.express as px\n",
    "pd.options.plotting.backend = 'plotly'\n",
    "from sklearn.model_selection import train_test_split, GridSearchCV\n",
    "from sklearn.pipeline import Pipeline\n",
    "from sklearn.pipeline import make_pipeline\n",
    "\n",
    "from sklearn.preprocessing import StandardScaler, PolynomialFeatures, OneHotEncoder, FunctionTransformer\n",
    "from sklearn.linear_model import LinearRegression\n",
    "from sklearn.compose import ColumnTransformer\n",
    "from sklearn.ensemble import RandomForestClassifier\n",
    "from sklearn.metrics import accuracy_score"
   ]
  },
  {
   "cell_type": "markdown",
   "metadata": {},
   "source": [
    "### Framing the Problem"
   ]
  },
  {
   "cell_type": "code",
   "execution_count": 385,
   "metadata": {
    "ExecuteTime": {
     "end_time": "2019-10-31T23:36:28.657068Z",
     "start_time": "2019-10-31T23:36:28.654650Z"
    }
   },
   "outputs": [],
   "source": [
    "#Combing Date and Time as was done in our project 3\n",
    "\n",
    "def combine_times(date_col_name, time_col_name, new_col_name, df):\n",
    "    df = df.copy()\n",
    "    df[new_col_name] = df[date_col_name] + pd.to_timedelta(df[time_col_name].astype(str))\n",
    "    return df\n",
    "\n",
    "data = pd.read_excel(\"outage.xlsx\", skiprows=[0,1,2,3,4,6], index_col=1).iloc[:,1:]\n",
    "data = combine_times(\"OUTAGE.START.DATE\", 'OUTAGE.START.TIME', 'OUTAGE.START.DATETIME', data)\n",
    "data = combine_times(\"OUTAGE.RESTORATION.DATE\", \"OUTAGE.RESTORATION.TIME\", \"OUTAGE.RESTORATION.DATETIME\", data)"
   ]
  },
  {
   "cell_type": "code",
   "execution_count": 386,
   "metadata": {},
   "outputs": [
    {
     "data": {
      "text/plain": [
       "array(['severe weather', 'intentional attack',\n",
       "       'system operability disruption', 'equipment failure',\n",
       "       'public appeal', 'fuel supply emergency', 'islanding'],\n",
       "      dtype=object)"
      ]
     },
     "execution_count": 386,
     "metadata": {},
     "output_type": "execute_result"
    }
   ],
   "source": [
    "data['CAUSE.CATEGORY'].unique()"
   ]
  },
  {
   "cell_type": "code",
   "execution_count": 387,
   "metadata": {},
   "outputs": [
    {
     "data": {
      "text/html": [
       "<div>\n",
       "<style scoped>\n",
       "    .dataframe tbody tr th:only-of-type {\n",
       "        vertical-align: middle;\n",
       "    }\n",
       "\n",
       "    .dataframe tbody tr th {\n",
       "        vertical-align: top;\n",
       "    }\n",
       "\n",
       "    .dataframe thead th {\n",
       "        text-align: right;\n",
       "    }\n",
       "</style>\n",
       "<table border=\"1\" class=\"dataframe\">\n",
       "  <thead>\n",
       "    <tr style=\"text-align: right;\">\n",
       "      <th></th>\n",
       "      <th>YEAR</th>\n",
       "      <th>MONTH</th>\n",
       "      <th>U.S._STATE</th>\n",
       "      <th>POSTAL.CODE</th>\n",
       "      <th>NERC.REGION</th>\n",
       "      <th>CLIMATE.REGION</th>\n",
       "      <th>ANOMALY.LEVEL</th>\n",
       "      <th>CLIMATE.CATEGORY</th>\n",
       "      <th>OUTAGE.START.DATE</th>\n",
       "      <th>OUTAGE.START.TIME</th>\n",
       "      <th>...</th>\n",
       "      <th>POPDEN_URBAN</th>\n",
       "      <th>POPDEN_UC</th>\n",
       "      <th>POPDEN_RURAL</th>\n",
       "      <th>AREAPCT_URBAN</th>\n",
       "      <th>AREAPCT_UC</th>\n",
       "      <th>PCT_LAND</th>\n",
       "      <th>PCT_WATER_TOT</th>\n",
       "      <th>PCT_WATER_INLAND</th>\n",
       "      <th>OUTAGE.START.DATETIME</th>\n",
       "      <th>OUTAGE.RESTORATION.DATETIME</th>\n",
       "    </tr>\n",
       "    <tr>\n",
       "      <th>OBS</th>\n",
       "      <th></th>\n",
       "      <th></th>\n",
       "      <th></th>\n",
       "      <th></th>\n",
       "      <th></th>\n",
       "      <th></th>\n",
       "      <th></th>\n",
       "      <th></th>\n",
       "      <th></th>\n",
       "      <th></th>\n",
       "      <th></th>\n",
       "      <th></th>\n",
       "      <th></th>\n",
       "      <th></th>\n",
       "      <th></th>\n",
       "      <th></th>\n",
       "      <th></th>\n",
       "      <th></th>\n",
       "      <th></th>\n",
       "      <th></th>\n",
       "      <th></th>\n",
       "    </tr>\n",
       "  </thead>\n",
       "  <tbody>\n",
       "    <tr>\n",
       "      <th>1</th>\n",
       "      <td>2011</td>\n",
       "      <td>7.0</td>\n",
       "      <td>Minnesota</td>\n",
       "      <td>MN</td>\n",
       "      <td>MRO</td>\n",
       "      <td>East North Central</td>\n",
       "      <td>-0.3</td>\n",
       "      <td>normal</td>\n",
       "      <td>2011-07-01</td>\n",
       "      <td>17:00:00</td>\n",
       "      <td>...</td>\n",
       "      <td>2279.0</td>\n",
       "      <td>1700.5</td>\n",
       "      <td>18.2</td>\n",
       "      <td>2.14</td>\n",
       "      <td>0.60</td>\n",
       "      <td>91.592666</td>\n",
       "      <td>8.407334</td>\n",
       "      <td>5.478743</td>\n",
       "      <td>2011-07-01 17:00:00</td>\n",
       "      <td>2011-07-03 20:00:00</td>\n",
       "    </tr>\n",
       "    <tr>\n",
       "      <th>2</th>\n",
       "      <td>2014</td>\n",
       "      <td>5.0</td>\n",
       "      <td>Minnesota</td>\n",
       "      <td>MN</td>\n",
       "      <td>MRO</td>\n",
       "      <td>East North Central</td>\n",
       "      <td>-0.1</td>\n",
       "      <td>normal</td>\n",
       "      <td>2014-05-11</td>\n",
       "      <td>18:38:00</td>\n",
       "      <td>...</td>\n",
       "      <td>2279.0</td>\n",
       "      <td>1700.5</td>\n",
       "      <td>18.2</td>\n",
       "      <td>2.14</td>\n",
       "      <td>0.60</td>\n",
       "      <td>91.592666</td>\n",
       "      <td>8.407334</td>\n",
       "      <td>5.478743</td>\n",
       "      <td>2014-05-11 18:38:00</td>\n",
       "      <td>2014-05-11 18:39:00</td>\n",
       "    </tr>\n",
       "    <tr>\n",
       "      <th>3</th>\n",
       "      <td>2010</td>\n",
       "      <td>10.0</td>\n",
       "      <td>Minnesota</td>\n",
       "      <td>MN</td>\n",
       "      <td>MRO</td>\n",
       "      <td>East North Central</td>\n",
       "      <td>-1.5</td>\n",
       "      <td>cold</td>\n",
       "      <td>2010-10-26</td>\n",
       "      <td>20:00:00</td>\n",
       "      <td>...</td>\n",
       "      <td>2279.0</td>\n",
       "      <td>1700.5</td>\n",
       "      <td>18.2</td>\n",
       "      <td>2.14</td>\n",
       "      <td>0.60</td>\n",
       "      <td>91.592666</td>\n",
       "      <td>8.407334</td>\n",
       "      <td>5.478743</td>\n",
       "      <td>2010-10-26 20:00:00</td>\n",
       "      <td>2010-10-28 22:00:00</td>\n",
       "    </tr>\n",
       "    <tr>\n",
       "      <th>4</th>\n",
       "      <td>2012</td>\n",
       "      <td>6.0</td>\n",
       "      <td>Minnesota</td>\n",
       "      <td>MN</td>\n",
       "      <td>MRO</td>\n",
       "      <td>East North Central</td>\n",
       "      <td>-0.1</td>\n",
       "      <td>normal</td>\n",
       "      <td>2012-06-19</td>\n",
       "      <td>04:30:00</td>\n",
       "      <td>...</td>\n",
       "      <td>2279.0</td>\n",
       "      <td>1700.5</td>\n",
       "      <td>18.2</td>\n",
       "      <td>2.14</td>\n",
       "      <td>0.60</td>\n",
       "      <td>91.592666</td>\n",
       "      <td>8.407334</td>\n",
       "      <td>5.478743</td>\n",
       "      <td>2012-06-19 04:30:00</td>\n",
       "      <td>2012-06-20 23:00:00</td>\n",
       "    </tr>\n",
       "    <tr>\n",
       "      <th>5</th>\n",
       "      <td>2015</td>\n",
       "      <td>7.0</td>\n",
       "      <td>Minnesota</td>\n",
       "      <td>MN</td>\n",
       "      <td>MRO</td>\n",
       "      <td>East North Central</td>\n",
       "      <td>1.2</td>\n",
       "      <td>warm</td>\n",
       "      <td>2015-07-18</td>\n",
       "      <td>02:00:00</td>\n",
       "      <td>...</td>\n",
       "      <td>2279.0</td>\n",
       "      <td>1700.5</td>\n",
       "      <td>18.2</td>\n",
       "      <td>2.14</td>\n",
       "      <td>0.60</td>\n",
       "      <td>91.592666</td>\n",
       "      <td>8.407334</td>\n",
       "      <td>5.478743</td>\n",
       "      <td>2015-07-18 02:00:00</td>\n",
       "      <td>2015-07-19 07:00:00</td>\n",
       "    </tr>\n",
       "    <tr>\n",
       "      <th>...</th>\n",
       "      <td>...</td>\n",
       "      <td>...</td>\n",
       "      <td>...</td>\n",
       "      <td>...</td>\n",
       "      <td>...</td>\n",
       "      <td>...</td>\n",
       "      <td>...</td>\n",
       "      <td>...</td>\n",
       "      <td>...</td>\n",
       "      <td>...</td>\n",
       "      <td>...</td>\n",
       "      <td>...</td>\n",
       "      <td>...</td>\n",
       "      <td>...</td>\n",
       "      <td>...</td>\n",
       "      <td>...</td>\n",
       "      <td>...</td>\n",
       "      <td>...</td>\n",
       "      <td>...</td>\n",
       "      <td>...</td>\n",
       "      <td>...</td>\n",
       "    </tr>\n",
       "    <tr>\n",
       "      <th>1530</th>\n",
       "      <td>2011</td>\n",
       "      <td>12.0</td>\n",
       "      <td>North Dakota</td>\n",
       "      <td>ND</td>\n",
       "      <td>MRO</td>\n",
       "      <td>West North Central</td>\n",
       "      <td>-0.9</td>\n",
       "      <td>cold</td>\n",
       "      <td>2011-12-06</td>\n",
       "      <td>08:00:00</td>\n",
       "      <td>...</td>\n",
       "      <td>2192.2</td>\n",
       "      <td>1868.2</td>\n",
       "      <td>3.9</td>\n",
       "      <td>0.27</td>\n",
       "      <td>0.10</td>\n",
       "      <td>97.599649</td>\n",
       "      <td>2.401765</td>\n",
       "      <td>2.401765</td>\n",
       "      <td>2011-12-06 08:00:00</td>\n",
       "      <td>2011-12-06 20:00:00</td>\n",
       "    </tr>\n",
       "    <tr>\n",
       "      <th>1531</th>\n",
       "      <td>2006</td>\n",
       "      <td>NaN</td>\n",
       "      <td>North Dakota</td>\n",
       "      <td>ND</td>\n",
       "      <td>MRO</td>\n",
       "      <td>West North Central</td>\n",
       "      <td>NaN</td>\n",
       "      <td>NaN</td>\n",
       "      <td>NaT</td>\n",
       "      <td>NaN</td>\n",
       "      <td>...</td>\n",
       "      <td>2192.2</td>\n",
       "      <td>1868.2</td>\n",
       "      <td>3.9</td>\n",
       "      <td>0.27</td>\n",
       "      <td>0.10</td>\n",
       "      <td>97.599649</td>\n",
       "      <td>2.401765</td>\n",
       "      <td>2.401765</td>\n",
       "      <td>NaT</td>\n",
       "      <td>NaT</td>\n",
       "    </tr>\n",
       "    <tr>\n",
       "      <th>1532</th>\n",
       "      <td>2009</td>\n",
       "      <td>8.0</td>\n",
       "      <td>South Dakota</td>\n",
       "      <td>SD</td>\n",
       "      <td>RFC</td>\n",
       "      <td>West North Central</td>\n",
       "      <td>0.5</td>\n",
       "      <td>warm</td>\n",
       "      <td>2009-08-29</td>\n",
       "      <td>22:54:00</td>\n",
       "      <td>...</td>\n",
       "      <td>2038.3</td>\n",
       "      <td>1905.4</td>\n",
       "      <td>4.7</td>\n",
       "      <td>0.30</td>\n",
       "      <td>0.15</td>\n",
       "      <td>98.307744</td>\n",
       "      <td>1.692256</td>\n",
       "      <td>1.692256</td>\n",
       "      <td>2009-08-29 22:54:00</td>\n",
       "      <td>2009-08-29 23:53:00</td>\n",
       "    </tr>\n",
       "    <tr>\n",
       "      <th>1533</th>\n",
       "      <td>2009</td>\n",
       "      <td>8.0</td>\n",
       "      <td>South Dakota</td>\n",
       "      <td>SD</td>\n",
       "      <td>MRO</td>\n",
       "      <td>West North Central</td>\n",
       "      <td>0.5</td>\n",
       "      <td>warm</td>\n",
       "      <td>2009-08-29</td>\n",
       "      <td>11:00:00</td>\n",
       "      <td>...</td>\n",
       "      <td>2038.3</td>\n",
       "      <td>1905.4</td>\n",
       "      <td>4.7</td>\n",
       "      <td>0.30</td>\n",
       "      <td>0.15</td>\n",
       "      <td>98.307744</td>\n",
       "      <td>1.692256</td>\n",
       "      <td>1.692256</td>\n",
       "      <td>2009-08-29 11:00:00</td>\n",
       "      <td>2009-08-29 14:01:00</td>\n",
       "    </tr>\n",
       "    <tr>\n",
       "      <th>1534</th>\n",
       "      <td>2000</td>\n",
       "      <td>NaN</td>\n",
       "      <td>Alaska</td>\n",
       "      <td>AK</td>\n",
       "      <td>ASCC</td>\n",
       "      <td>NaN</td>\n",
       "      <td>NaN</td>\n",
       "      <td>NaN</td>\n",
       "      <td>NaT</td>\n",
       "      <td>NaN</td>\n",
       "      <td>...</td>\n",
       "      <td>1802.6</td>\n",
       "      <td>1276.0</td>\n",
       "      <td>0.4</td>\n",
       "      <td>0.05</td>\n",
       "      <td>0.02</td>\n",
       "      <td>85.761154</td>\n",
       "      <td>14.238846</td>\n",
       "      <td>2.901182</td>\n",
       "      <td>NaT</td>\n",
       "      <td>NaT</td>\n",
       "    </tr>\n",
       "  </tbody>\n",
       "</table>\n",
       "<p>1534 rows × 57 columns</p>\n",
       "</div>"
      ],
      "text/plain": [
       "      YEAR  MONTH    U.S._STATE POSTAL.CODE NERC.REGION      CLIMATE.REGION  \\\n",
       "OBS                                                                           \n",
       "1     2011    7.0     Minnesota          MN         MRO  East North Central   \n",
       "2     2014    5.0     Minnesota          MN         MRO  East North Central   \n",
       "3     2010   10.0     Minnesota          MN         MRO  East North Central   \n",
       "4     2012    6.0     Minnesota          MN         MRO  East North Central   \n",
       "5     2015    7.0     Minnesota          MN         MRO  East North Central   \n",
       "...    ...    ...           ...         ...         ...                 ...   \n",
       "1530  2011   12.0  North Dakota          ND         MRO  West North Central   \n",
       "1531  2006    NaN  North Dakota          ND         MRO  West North Central   \n",
       "1532  2009    8.0  South Dakota          SD         RFC  West North Central   \n",
       "1533  2009    8.0  South Dakota          SD         MRO  West North Central   \n",
       "1534  2000    NaN        Alaska          AK        ASCC                 NaN   \n",
       "\n",
       "      ANOMALY.LEVEL CLIMATE.CATEGORY OUTAGE.START.DATE OUTAGE.START.TIME  ...  \\\n",
       "OBS                                                                       ...   \n",
       "1              -0.3           normal        2011-07-01          17:00:00  ...   \n",
       "2              -0.1           normal        2014-05-11          18:38:00  ...   \n",
       "3              -1.5             cold        2010-10-26          20:00:00  ...   \n",
       "4              -0.1           normal        2012-06-19          04:30:00  ...   \n",
       "5               1.2             warm        2015-07-18          02:00:00  ...   \n",
       "...             ...              ...               ...               ...  ...   \n",
       "1530           -0.9             cold        2011-12-06          08:00:00  ...   \n",
       "1531            NaN              NaN               NaT               NaN  ...   \n",
       "1532            0.5             warm        2009-08-29          22:54:00  ...   \n",
       "1533            0.5             warm        2009-08-29          11:00:00  ...   \n",
       "1534            NaN              NaN               NaT               NaN  ...   \n",
       "\n",
       "     POPDEN_URBAN POPDEN_UC POPDEN_RURAL AREAPCT_URBAN AREAPCT_UC   PCT_LAND  \\\n",
       "OBS                                                                            \n",
       "1          2279.0    1700.5         18.2          2.14       0.60  91.592666   \n",
       "2          2279.0    1700.5         18.2          2.14       0.60  91.592666   \n",
       "3          2279.0    1700.5         18.2          2.14       0.60  91.592666   \n",
       "4          2279.0    1700.5         18.2          2.14       0.60  91.592666   \n",
       "5          2279.0    1700.5         18.2          2.14       0.60  91.592666   \n",
       "...           ...       ...          ...           ...        ...        ...   \n",
       "1530       2192.2    1868.2          3.9          0.27       0.10  97.599649   \n",
       "1531       2192.2    1868.2          3.9          0.27       0.10  97.599649   \n",
       "1532       2038.3    1905.4          4.7          0.30       0.15  98.307744   \n",
       "1533       2038.3    1905.4          4.7          0.30       0.15  98.307744   \n",
       "1534       1802.6    1276.0          0.4          0.05       0.02  85.761154   \n",
       "\n",
       "      PCT_WATER_TOT  PCT_WATER_INLAND  OUTAGE.START.DATETIME  \\\n",
       "OBS                                                            \n",
       "1          8.407334          5.478743    2011-07-01 17:00:00   \n",
       "2          8.407334          5.478743    2014-05-11 18:38:00   \n",
       "3          8.407334          5.478743    2010-10-26 20:00:00   \n",
       "4          8.407334          5.478743    2012-06-19 04:30:00   \n",
       "5          8.407334          5.478743    2015-07-18 02:00:00   \n",
       "...             ...               ...                    ...   \n",
       "1530       2.401765          2.401765    2011-12-06 08:00:00   \n",
       "1531       2.401765          2.401765                    NaT   \n",
       "1532       1.692256          1.692256    2009-08-29 22:54:00   \n",
       "1533       1.692256          1.692256    2009-08-29 11:00:00   \n",
       "1534      14.238846          2.901182                    NaT   \n",
       "\n",
       "      OUTAGE.RESTORATION.DATETIME  \n",
       "OBS                                \n",
       "1             2011-07-03 20:00:00  \n",
       "2             2014-05-11 18:39:00  \n",
       "3             2010-10-28 22:00:00  \n",
       "4             2012-06-20 23:00:00  \n",
       "5             2015-07-19 07:00:00  \n",
       "...                           ...  \n",
       "1530          2011-12-06 20:00:00  \n",
       "1531                          NaT  \n",
       "1532          2009-08-29 23:53:00  \n",
       "1533          2009-08-29 14:01:00  \n",
       "1534                          NaT  \n",
       "\n",
       "[1534 rows x 57 columns]"
      ]
     },
     "execution_count": 387,
     "metadata": {},
     "output_type": "execute_result"
    }
   ],
   "source": [
    "data"
   ]
  },
  {
   "cell_type": "code",
   "execution_count": 388,
   "metadata": {},
   "outputs": [],
   "source": [
    "data['IS.HURRICANE'] = data['HURRICANE.NAMES'].isna() == False"
   ]
  },
  {
   "cell_type": "code",
   "execution_count": 389,
   "metadata": {},
   "outputs": [
    {
     "data": {
      "text/plain": [
       "Index(['YEAR', 'MONTH', 'U.S._STATE', 'POSTAL.CODE', 'NERC.REGION',\n",
       "       'CLIMATE.REGION', 'ANOMALY.LEVEL', 'CLIMATE.CATEGORY',\n",
       "       'OUTAGE.START.DATE', 'OUTAGE.START.TIME', 'OUTAGE.RESTORATION.DATE',\n",
       "       'OUTAGE.RESTORATION.TIME', 'CAUSE.CATEGORY', 'CAUSE.CATEGORY.DETAIL',\n",
       "       'HURRICANE.NAMES', 'OUTAGE.DURATION', 'DEMAND.LOSS.MW',\n",
       "       'CUSTOMERS.AFFECTED', 'RES.PRICE', 'COM.PRICE', 'IND.PRICE',\n",
       "       'TOTAL.PRICE', 'RES.SALES', 'COM.SALES', 'IND.SALES', 'TOTAL.SALES',\n",
       "       'RES.PERCEN', 'COM.PERCEN', 'IND.PERCEN', 'RES.CUSTOMERS',\n",
       "       'COM.CUSTOMERS', 'IND.CUSTOMERS', 'TOTAL.CUSTOMERS', 'RES.CUST.PCT',\n",
       "       'COM.CUST.PCT', 'IND.CUST.PCT', 'PC.REALGSP.STATE', 'PC.REALGSP.USA',\n",
       "       'PC.REALGSP.REL', 'PC.REALGSP.CHANGE', 'UTIL.REALGSP', 'TOTAL.REALGSP',\n",
       "       'UTIL.CONTRI', 'PI.UTIL.OFUSA', 'POPULATION', 'POPPCT_URBAN',\n",
       "       'POPPCT_UC', 'POPDEN_URBAN', 'POPDEN_UC', 'POPDEN_RURAL',\n",
       "       'AREAPCT_URBAN', 'AREAPCT_UC', 'PCT_LAND', 'PCT_WATER_TOT',\n",
       "       'PCT_WATER_INLAND', 'OUTAGE.START.DATETIME',\n",
       "       'OUTAGE.RESTORATION.DATETIME', 'IS.HURRICANE'],\n",
       "      dtype='object')"
      ]
     },
     "execution_count": 389,
     "metadata": {},
     "output_type": "execute_result"
    }
   ],
   "source": [
    "data.columns"
   ]
  },
  {
   "cell_type": "code",
   "execution_count": 390,
   "metadata": {},
   "outputs": [
    {
     "data": {
      "text/plain": [
       "72"
      ]
     },
     "execution_count": 390,
     "metadata": {},
     "output_type": "execute_result"
    }
   ],
   "source": [
    "data['IS.HURRICANE'].sum()"
   ]
  },
  {
   "cell_type": "code",
   "execution_count": 391,
   "metadata": {},
   "outputs": [
    {
     "data": {
      "text/plain": [
       "CAUSE.CATEGORY\n",
       "severe weather                   763\n",
       "intentional attack               418\n",
       "system operability disruption    127\n",
       "public appeal                     69\n",
       "equipment failure                 60\n",
       "fuel supply emergency             51\n",
       "islanding                         46\n",
       "Name: count, dtype: int64"
      ]
     },
     "execution_count": 391,
     "metadata": {},
     "output_type": "execute_result"
    }
   ],
   "source": [
    "data['CAUSE.CATEGORY'].value_counts()"
   ]
  },
  {
   "cell_type": "code",
   "execution_count": 392,
   "metadata": {},
   "outputs": [
    {
     "data": {
      "text/plain": [
       "0.5169491525423728"
      ]
     },
     "execution_count": 392,
     "metadata": {},
     "output_type": "execute_result"
    }
   ],
   "source": [
    "793/1534"
   ]
  },
  {
   "cell_type": "code",
   "execution_count": 393,
   "metadata": {},
   "outputs": [],
   "source": [
    "data['ANOMALY.LEVEL'] = data['ANOMALY.LEVEL'].fillna(0)"
   ]
  },
  {
   "cell_type": "code",
   "execution_count": 394,
   "metadata": {},
   "outputs": [
    {
     "data": {
      "application/vnd.plotly.v1+json": {
       "config": {
        "plotlyServerURL": "https://plot.ly"
       },
       "data": [
        {
         "alignmentgroup": "True",
         "hovertemplate": "CAUSE.CATEGORY=%{x}<br>CUSTOMERS.AFFECTED=%{y}<extra></extra>",
         "legendgroup": "",
         "marker": {
          "color": "#636efa",
          "pattern": {
           "shape": ""
          }
         },
         "name": "",
         "offsetgroup": "",
         "orientation": "v",
         "showlegend": false,
         "textposition": "auto",
         "type": "bar",
         "x": [
          "severe weather",
          "intentional attack",
          "severe weather",
          "severe weather",
          "severe weather",
          "severe weather",
          "severe weather",
          "severe weather",
          "intentional attack",
          "severe weather",
          "severe weather",
          "severe weather",
          "intentional attack",
          "intentional attack",
          "severe weather",
          "system operability disruption",
          "intentional attack",
          "system operability disruption",
          "severe weather",
          "severe weather",
          "severe weather",
          "severe weather",
          "intentional attack",
          "intentional attack",
          "severe weather",
          "equipment failure",
          "severe weather",
          "severe weather",
          "severe weather",
          "public appeal",
          "intentional attack",
          "severe weather",
          "intentional attack",
          "severe weather",
          "severe weather",
          "severe weather",
          "system operability disruption",
          "severe weather",
          "intentional attack",
          "severe weather",
          "severe weather",
          "severe weather",
          "severe weather",
          "severe weather",
          "equipment failure",
          "intentional attack",
          "severe weather",
          "intentional attack",
          "severe weather",
          "fuel supply emergency",
          "intentional attack",
          "severe weather",
          "severe weather",
          "fuel supply emergency",
          "fuel supply emergency",
          "severe weather",
          "intentional attack",
          "intentional attack",
          "severe weather",
          "public appeal",
          "severe weather",
          "intentional attack",
          "intentional attack",
          "fuel supply emergency",
          "severe weather",
          "fuel supply emergency",
          "intentional attack",
          "severe weather",
          "intentional attack",
          "intentional attack",
          "severe weather",
          "severe weather",
          "severe weather",
          "severe weather",
          "severe weather",
          "severe weather",
          "public appeal",
          "severe weather",
          "severe weather",
          "system operability disruption",
          "severe weather",
          "system operability disruption",
          "severe weather",
          "severe weather",
          "severe weather",
          "severe weather",
          "severe weather",
          "severe weather",
          "severe weather",
          "severe weather",
          "severe weather",
          "severe weather",
          "severe weather",
          "severe weather",
          "severe weather",
          "severe weather",
          "severe weather",
          "intentional attack",
          "severe weather",
          "severe weather",
          "severe weather",
          "severe weather",
          "severe weather",
          "severe weather",
          "severe weather",
          "severe weather",
          "severe weather",
          "severe weather",
          "equipment failure",
          "severe weather",
          "severe weather",
          "severe weather",
          "severe weather",
          "severe weather",
          "severe weather",
          "intentional attack",
          "severe weather",
          "severe weather",
          "severe weather",
          "severe weather",
          "equipment failure",
          "severe weather",
          "severe weather",
          "severe weather",
          "islanding",
          "severe weather",
          "severe weather",
          "severe weather",
          "system operability disruption",
          "equipment failure",
          "severe weather",
          "severe weather",
          "severe weather",
          "severe weather",
          "severe weather",
          "severe weather",
          "severe weather",
          "severe weather",
          "severe weather",
          "severe weather",
          "severe weather",
          "severe weather",
          "severe weather",
          "severe weather",
          "intentional attack",
          "severe weather",
          "severe weather",
          "severe weather",
          "severe weather",
          "severe weather",
          "severe weather",
          "severe weather",
          "severe weather",
          "severe weather",
          "severe weather",
          "severe weather",
          "severe weather",
          "severe weather",
          "severe weather",
          "intentional attack",
          "severe weather",
          "severe weather",
          "severe weather",
          "severe weather",
          "severe weather",
          "severe weather",
          "severe weather",
          "severe weather",
          "system operability disruption",
          "severe weather",
          "system operability disruption",
          "severe weather",
          "intentional attack",
          "public appeal",
          "severe weather",
          "severe weather",
          "severe weather",
          "severe weather",
          "intentional attack",
          "system operability disruption",
          "severe weather",
          "severe weather",
          "fuel supply emergency",
          "public appeal",
          "severe weather",
          "public appeal",
          "severe weather",
          "severe weather",
          "system operability disruption",
          "severe weather",
          "severe weather",
          "system operability disruption",
          "fuel supply emergency",
          "severe weather",
          "public appeal",
          "system operability disruption",
          "system operability disruption",
          "severe weather",
          "intentional attack",
          "equipment failure",
          "equipment failure",
          "severe weather",
          "severe weather",
          "public appeal",
          "severe weather",
          "severe weather",
          "intentional attack",
          "severe weather",
          "public appeal",
          "public appeal",
          "equipment failure",
          "system operability disruption",
          "severe weather",
          "intentional attack",
          "severe weather",
          "intentional attack",
          "severe weather",
          "severe weather",
          "severe weather",
          "fuel supply emergency",
          "fuel supply emergency",
          "severe weather",
          "equipment failure",
          "severe weather",
          "severe weather",
          "severe weather",
          "system operability disruption",
          "system operability disruption",
          "severe weather",
          "severe weather",
          "system operability disruption",
          "severe weather",
          "fuel supply emergency",
          "severe weather",
          "public appeal",
          "system operability disruption",
          "system operability disruption",
          "system operability disruption",
          "severe weather",
          "equipment failure",
          "severe weather",
          "severe weather",
          "system operability disruption",
          "system operability disruption",
          "severe weather",
          "intentional attack",
          "intentional attack",
          "public appeal",
          "severe weather",
          "severe weather",
          "severe weather",
          "public appeal",
          "system operability disruption",
          "severe weather",
          "severe weather",
          "severe weather",
          "intentional attack",
          "severe weather",
          "severe weather",
          "public appeal",
          "public appeal",
          "public appeal",
          "severe weather",
          "intentional attack",
          "severe weather",
          "public appeal",
          "severe weather",
          "severe weather",
          "severe weather",
          "system operability disruption",
          "severe weather",
          "public appeal",
          "severe weather",
          "fuel supply emergency",
          "severe weather",
          "public appeal",
          "intentional attack",
          "severe weather",
          "system operability disruption",
          "severe weather",
          "equipment failure",
          "severe weather",
          "severe weather",
          "severe weather",
          "severe weather",
          "severe weather",
          "severe weather",
          "severe weather",
          "severe weather",
          "severe weather",
          "public appeal",
          "intentional attack",
          "severe weather",
          "system operability disruption",
          "intentional attack",
          "severe weather",
          "fuel supply emergency",
          "severe weather",
          "severe weather",
          "intentional attack",
          "islanding",
          "equipment failure",
          "system operability disruption",
          "severe weather",
          "islanding",
          "intentional attack",
          "severe weather",
          "system operability disruption",
          "severe weather",
          "intentional attack",
          "severe weather",
          "severe weather",
          "system operability disruption",
          "severe weather",
          "intentional attack",
          "severe weather",
          "severe weather",
          "severe weather",
          "severe weather",
          "severe weather",
          "severe weather",
          "severe weather",
          "equipment failure",
          "islanding",
          "severe weather",
          "intentional attack",
          "intentional attack",
          "intentional attack",
          "severe weather",
          "severe weather",
          "intentional attack",
          "severe weather",
          "system operability disruption",
          "severe weather",
          "severe weather",
          "severe weather",
          "system operability disruption",
          "severe weather",
          "severe weather",
          "severe weather",
          "severe weather",
          "severe weather",
          "severe weather",
          "intentional attack",
          "intentional attack",
          "system operability disruption",
          "intentional attack",
          "intentional attack",
          "intentional attack",
          "severe weather",
          "severe weather",
          "severe weather",
          "severe weather",
          "severe weather",
          "severe weather",
          "severe weather",
          "severe weather",
          "severe weather",
          "equipment failure",
          "severe weather",
          "severe weather",
          "severe weather",
          "severe weather",
          "severe weather",
          "severe weather",
          "severe weather",
          "severe weather",
          "severe weather",
          "severe weather",
          "severe weather",
          "severe weather",
          "severe weather",
          "severe weather",
          "severe weather",
          "severe weather",
          "severe weather",
          "severe weather",
          "severe weather",
          "severe weather",
          "severe weather",
          "severe weather",
          "severe weather",
          "fuel supply emergency",
          "severe weather",
          "severe weather",
          "severe weather",
          "severe weather",
          "severe weather",
          "severe weather",
          "severe weather",
          "severe weather",
          "severe weather",
          "public appeal",
          "severe weather",
          "intentional attack",
          "intentional attack",
          "intentional attack",
          "severe weather",
          "intentional attack",
          "severe weather",
          "intentional attack",
          "intentional attack",
          "intentional attack",
          "islanding",
          "intentional attack",
          "intentional attack",
          "intentional attack",
          "severe weather",
          "severe weather",
          "intentional attack",
          "intentional attack",
          "severe weather",
          "intentional attack",
          "system operability disruption",
          "severe weather",
          "severe weather",
          "intentional attack",
          "intentional attack",
          "intentional attack",
          "intentional attack",
          "intentional attack",
          "severe weather",
          "intentional attack",
          "intentional attack",
          "intentional attack",
          "intentional attack",
          "intentional attack",
          "intentional attack",
          "intentional attack",
          "severe weather",
          "severe weather",
          "intentional attack",
          "severe weather",
          "intentional attack",
          "equipment failure",
          "intentional attack",
          "intentional attack",
          "intentional attack",
          "intentional attack",
          "severe weather",
          "intentional attack",
          "intentional attack",
          "intentional attack",
          "severe weather",
          "public appeal",
          "intentional attack",
          "severe weather",
          "intentional attack",
          "intentional attack",
          "intentional attack",
          "intentional attack",
          "intentional attack",
          "intentional attack",
          "intentional attack",
          "intentional attack",
          "intentional attack",
          "intentional attack",
          "severe weather",
          "islanding",
          "intentional attack",
          "severe weather",
          "intentional attack",
          "intentional attack",
          "intentional attack",
          "severe weather",
          "intentional attack",
          "intentional attack",
          "islanding",
          "intentional attack",
          "intentional attack",
          "intentional attack",
          "islanding",
          "intentional attack",
          "intentional attack",
          "intentional attack",
          "severe weather",
          "severe weather",
          "severe weather",
          "intentional attack",
          "severe weather",
          "intentional attack",
          "intentional attack",
          "fuel supply emergency",
          "severe weather",
          "intentional attack",
          "severe weather",
          "intentional attack",
          "intentional attack",
          "severe weather",
          "intentional attack",
          "islanding",
          "system operability disruption",
          "intentional attack",
          "intentional attack",
          "intentional attack",
          "intentional attack",
          "equipment failure",
          "intentional attack",
          "intentional attack",
          "severe weather",
          "severe weather",
          "intentional attack",
          "intentional attack",
          "intentional attack",
          "severe weather",
          "intentional attack",
          "intentional attack",
          "intentional attack",
          "intentional attack",
          "intentional attack",
          "equipment failure",
          "intentional attack",
          "intentional attack",
          "severe weather",
          "intentional attack",
          "system operability disruption",
          "intentional attack",
          "equipment failure",
          "equipment failure",
          "severe weather",
          "severe weather",
          "severe weather",
          "severe weather",
          "severe weather",
          "severe weather",
          "severe weather",
          "intentional attack",
          "intentional attack",
          "intentional attack",
          "intentional attack",
          "severe weather",
          "intentional attack",
          "intentional attack",
          "severe weather",
          "intentional attack",
          "intentional attack",
          "severe weather",
          "severe weather",
          "intentional attack",
          "intentional attack",
          "severe weather",
          "severe weather",
          "intentional attack",
          "severe weather",
          "intentional attack",
          "severe weather",
          "severe weather",
          "intentional attack",
          "severe weather",
          "severe weather",
          "intentional attack",
          "intentional attack",
          "intentional attack",
          "severe weather",
          "intentional attack",
          "severe weather",
          "severe weather",
          "intentional attack",
          "severe weather",
          "intentional attack",
          "intentional attack",
          "severe weather",
          "severe weather",
          "intentional attack",
          "severe weather",
          "severe weather",
          "intentional attack",
          "intentional attack",
          "intentional attack",
          "severe weather",
          "severe weather",
          "severe weather",
          "severe weather",
          "severe weather",
          "system operability disruption",
          "severe weather",
          "intentional attack",
          "severe weather",
          "severe weather",
          "severe weather",
          "intentional attack",
          "system operability disruption",
          "severe weather",
          "severe weather",
          "severe weather",
          "severe weather",
          "severe weather",
          "severe weather",
          "severe weather",
          "severe weather",
          "severe weather",
          "severe weather",
          "severe weather",
          "intentional attack",
          "severe weather",
          "severe weather",
          "severe weather",
          "severe weather",
          "severe weather",
          "severe weather",
          "severe weather",
          "severe weather",
          "severe weather",
          "severe weather",
          "severe weather",
          "system operability disruption",
          "severe weather",
          "severe weather",
          "severe weather",
          "severe weather",
          "intentional attack",
          "severe weather",
          "severe weather",
          "severe weather",
          "severe weather",
          "severe weather",
          "severe weather",
          "severe weather",
          "equipment failure",
          "severe weather",
          "severe weather",
          "severe weather",
          "severe weather",
          "intentional attack",
          "severe weather",
          "severe weather",
          "severe weather",
          "severe weather",
          "severe weather",
          "intentional attack",
          "severe weather",
          "intentional attack",
          "severe weather",
          "severe weather",
          "fuel supply emergency",
          "severe weather",
          "severe weather",
          "severe weather",
          "equipment failure",
          "intentional attack",
          "severe weather",
          "severe weather",
          "severe weather",
          "severe weather",
          "fuel supply emergency",
          "severe weather",
          "severe weather",
          "intentional attack",
          "intentional attack",
          "intentional attack",
          "intentional attack",
          "intentional attack",
          "intentional attack",
          "intentional attack",
          "intentional attack",
          "intentional attack",
          "intentional attack",
          "system operability disruption",
          "intentional attack",
          "intentional attack",
          "intentional attack",
          "intentional attack",
          "intentional attack",
          "severe weather",
          "intentional attack",
          "intentional attack",
          "system operability disruption",
          "severe weather",
          "intentional attack",
          "intentional attack",
          "intentional attack",
          "intentional attack",
          "intentional attack",
          "intentional attack",
          "intentional attack",
          "intentional attack",
          "intentional attack",
          "intentional attack",
          "intentional attack",
          "public appeal",
          "equipment failure",
          "intentional attack",
          "intentional attack",
          "intentional attack",
          "intentional attack",
          "intentional attack",
          "intentional attack",
          "intentional attack",
          "severe weather",
          "equipment failure",
          "severe weather",
          "severe weather",
          "intentional attack",
          "intentional attack",
          "severe weather",
          "intentional attack",
          "severe weather",
          "severe weather",
          "severe weather",
          "severe weather",
          "severe weather",
          "severe weather",
          "severe weather",
          "severe weather",
          "severe weather",
          "system operability disruption",
          "intentional attack",
          "severe weather",
          "intentional attack",
          "intentional attack",
          "intentional attack",
          "severe weather",
          "severe weather",
          "severe weather",
          "intentional attack",
          "intentional attack",
          "severe weather",
          "intentional attack",
          "severe weather",
          "severe weather",
          "intentional attack",
          "severe weather",
          "severe weather",
          "intentional attack",
          "system operability disruption",
          "intentional attack",
          "severe weather",
          "severe weather",
          "severe weather",
          "severe weather",
          "intentional attack",
          "severe weather",
          "severe weather",
          "severe weather",
          "severe weather",
          "system operability disruption",
          "intentional attack",
          "severe weather",
          "severe weather",
          "severe weather",
          "severe weather",
          "severe weather",
          "severe weather",
          "severe weather",
          "severe weather",
          "severe weather",
          "severe weather",
          "system operability disruption",
          "intentional attack",
          "severe weather",
          "severe weather",
          "severe weather",
          "severe weather",
          "severe weather",
          "system operability disruption",
          "system operability disruption",
          "severe weather",
          "severe weather",
          "severe weather",
          "severe weather",
          "intentional attack",
          "severe weather",
          "intentional attack",
          "severe weather",
          "severe weather",
          "severe weather",
          "severe weather",
          "severe weather",
          "severe weather",
          "system operability disruption",
          "severe weather",
          "intentional attack",
          "system operability disruption",
          "severe weather",
          "severe weather",
          "intentional attack",
          "severe weather",
          "severe weather",
          "intentional attack",
          "severe weather",
          "severe weather",
          "severe weather",
          "system operability disruption",
          "intentional attack",
          "severe weather",
          "severe weather",
          "severe weather",
          "intentional attack",
          "severe weather",
          "severe weather",
          "intentional attack",
          "intentional attack",
          "severe weather",
          "intentional attack",
          "intentional attack",
          "severe weather",
          "severe weather",
          "intentional attack",
          "severe weather",
          "severe weather",
          "severe weather",
          "severe weather",
          "severe weather",
          "severe weather",
          "severe weather",
          "severe weather",
          "severe weather",
          "severe weather",
          "severe weather",
          "severe weather",
          "severe weather",
          "severe weather",
          "severe weather",
          "severe weather",
          "severe weather",
          "intentional attack",
          "severe weather",
          "intentional attack",
          "intentional attack",
          "intentional attack",
          "intentional attack",
          "equipment failure",
          "intentional attack",
          "intentional attack",
          "severe weather",
          "intentional attack",
          "intentional attack",
          "intentional attack",
          "intentional attack",
          "intentional attack",
          "severe weather",
          "intentional attack",
          "intentional attack",
          "intentional attack",
          "intentional attack",
          "severe weather",
          "intentional attack",
          "intentional attack",
          "intentional attack",
          "intentional attack",
          "severe weather",
          "severe weather",
          "severe weather",
          "severe weather",
          "severe weather",
          "equipment failure",
          "severe weather",
          "severe weather",
          "severe weather",
          "severe weather",
          "system operability disruption",
          "severe weather",
          "severe weather",
          "severe weather",
          "intentional attack",
          "intentional attack",
          "intentional attack",
          "severe weather",
          "severe weather",
          "severe weather",
          "severe weather",
          "severe weather",
          "intentional attack",
          "intentional attack",
          "severe weather",
          "severe weather",
          "severe weather",
          "equipment failure",
          "intentional attack",
          "intentional attack",
          "intentional attack",
          "intentional attack",
          "intentional attack",
          "intentional attack",
          "intentional attack",
          "intentional attack",
          "intentional attack",
          "intentional attack",
          "intentional attack",
          "intentional attack",
          "intentional attack",
          "intentional attack",
          "intentional attack",
          "intentional attack",
          "intentional attack",
          "intentional attack",
          "intentional attack",
          "system operability disruption",
          "intentional attack",
          "intentional attack",
          "intentional attack",
          "intentional attack",
          "intentional attack",
          "intentional attack",
          "intentional attack",
          "intentional attack",
          "intentional attack",
          "intentional attack",
          "intentional attack",
          "intentional attack",
          "intentional attack",
          "intentional attack",
          "severe weather",
          "intentional attack",
          "intentional attack",
          "severe weather",
          "intentional attack",
          "intentional attack",
          "intentional attack",
          "severe weather",
          "intentional attack",
          "intentional attack",
          "intentional attack",
          "intentional attack",
          "severe weather",
          "severe weather",
          "islanding",
          "intentional attack",
          "islanding",
          "severe weather",
          "severe weather",
          "severe weather",
          "severe weather",
          "system operability disruption",
          "equipment failure",
          "severe weather",
          "severe weather",
          "intentional attack",
          "severe weather",
          "severe weather",
          "system operability disruption",
          "intentional attack",
          "intentional attack",
          "public appeal",
          "fuel supply emergency",
          "fuel supply emergency",
          "severe weather",
          "intentional attack",
          "intentional attack",
          "severe weather",
          "fuel supply emergency",
          "severe weather",
          "severe weather",
          "severe weather",
          "intentional attack",
          "severe weather",
          "fuel supply emergency",
          "fuel supply emergency",
          "severe weather",
          "intentional attack",
          "system operability disruption",
          "equipment failure",
          "fuel supply emergency",
          "severe weather",
          "severe weather",
          "intentional attack",
          "severe weather",
          "severe weather",
          "severe weather",
          "public appeal",
          "severe weather",
          "intentional attack",
          "severe weather",
          "severe weather",
          "fuel supply emergency",
          "system operability disruption",
          "system operability disruption",
          "severe weather",
          "public appeal",
          "severe weather",
          "severe weather",
          "severe weather",
          "fuel supply emergency",
          "fuel supply emergency",
          "intentional attack",
          "system operability disruption",
          "intentional attack",
          "severe weather",
          "severe weather",
          "fuel supply emergency",
          "severe weather",
          "severe weather",
          "intentional attack",
          "intentional attack",
          "fuel supply emergency",
          "severe weather",
          "public appeal",
          "severe weather",
          "system operability disruption",
          "fuel supply emergency",
          "fuel supply emergency",
          "public appeal",
          "severe weather",
          "public appeal",
          "public appeal",
          "severe weather",
          "severe weather",
          "public appeal",
          "system operability disruption",
          "public appeal",
          "severe weather",
          "public appeal",
          "system operability disruption",
          "public appeal",
          "severe weather",
          "severe weather",
          "system operability disruption",
          "equipment failure",
          "public appeal",
          "system operability disruption",
          "severe weather",
          "public appeal",
          "public appeal",
          "severe weather",
          "severe weather",
          "severe weather",
          "public appeal",
          "severe weather",
          "severe weather",
          "system operability disruption",
          "public appeal",
          "public appeal",
          "equipment failure",
          "system operability disruption",
          "severe weather",
          "public appeal",
          "severe weather",
          "severe weather",
          "severe weather",
          "equipment failure",
          "intentional attack",
          "severe weather",
          "severe weather",
          "severe weather",
          "equipment failure",
          "severe weather",
          "intentional attack",
          "system operability disruption",
          "severe weather",
          "severe weather",
          "system operability disruption",
          "public appeal",
          "public appeal",
          "severe weather",
          "severe weather",
          "equipment failure",
          "system operability disruption",
          "severe weather",
          "public appeal",
          "system operability disruption",
          "equipment failure",
          "severe weather",
          "severe weather",
          "severe weather",
          "system operability disruption",
          "severe weather",
          "severe weather",
          "severe weather",
          "system operability disruption",
          "system operability disruption",
          "severe weather",
          "system operability disruption",
          "severe weather",
          "equipment failure",
          "severe weather",
          "severe weather",
          "severe weather",
          "severe weather",
          "severe weather",
          "severe weather",
          "severe weather",
          "severe weather",
          "severe weather",
          "system operability disruption",
          "system operability disruption",
          "severe weather",
          "system operability disruption",
          "severe weather",
          "public appeal",
          "fuel supply emergency",
          "intentional attack",
          "equipment failure",
          "severe weather",
          "system operability disruption",
          "severe weather",
          "equipment failure",
          "equipment failure",
          "severe weather",
          "severe weather",
          "intentional attack",
          "islanding",
          "severe weather",
          "system operability disruption",
          "intentional attack",
          "system operability disruption",
          "severe weather",
          "system operability disruption",
          "islanding",
          "intentional attack",
          "system operability disruption",
          "intentional attack",
          "equipment failure",
          "fuel supply emergency",
          "severe weather",
          "system operability disruption",
          "islanding",
          "severe weather",
          "equipment failure",
          "system operability disruption",
          "equipment failure",
          "equipment failure",
          "fuel supply emergency",
          "islanding",
          "severe weather",
          "severe weather",
          "severe weather",
          "system operability disruption",
          "severe weather",
          "fuel supply emergency",
          "islanding",
          "islanding",
          "islanding",
          "islanding",
          "islanding",
          "system operability disruption",
          "severe weather",
          "islanding",
          "system operability disruption",
          "severe weather",
          "public appeal",
          "severe weather",
          "severe weather",
          "severe weather",
          "intentional attack",
          "system operability disruption",
          "intentional attack",
          "intentional attack",
          "system operability disruption",
          "fuel supply emergency",
          "islanding",
          "severe weather",
          "severe weather",
          "severe weather",
          "intentional attack",
          "severe weather",
          "intentional attack",
          "severe weather",
          "intentional attack",
          "equipment failure",
          "severe weather",
          "system operability disruption",
          "public appeal",
          "system operability disruption",
          "equipment failure",
          "severe weather",
          "public appeal",
          "equipment failure",
          "severe weather",
          "system operability disruption",
          "severe weather",
          "system operability disruption",
          "system operability disruption",
          "public appeal",
          "system operability disruption",
          "severe weather",
          "equipment failure",
          "system operability disruption",
          "intentional attack",
          "islanding",
          "system operability disruption",
          "intentional attack",
          "severe weather",
          "system operability disruption",
          "system operability disruption",
          "severe weather",
          "severe weather",
          "intentional attack",
          "system operability disruption",
          "islanding",
          "severe weather",
          "severe weather",
          "severe weather",
          "system operability disruption",
          "severe weather",
          "equipment failure",
          "equipment failure",
          "severe weather",
          "equipment failure",
          "severe weather",
          "intentional attack",
          "equipment failure",
          "system operability disruption",
          "severe weather",
          "severe weather",
          "equipment failure",
          "severe weather",
          "islanding",
          "fuel supply emergency",
          "system operability disruption",
          "fuel supply emergency",
          "system operability disruption",
          "severe weather",
          "severe weather",
          "system operability disruption",
          "fuel supply emergency",
          "severe weather",
          "intentional attack",
          "fuel supply emergency",
          "severe weather",
          "equipment failure",
          "islanding",
          "islanding",
          "system operability disruption",
          "system operability disruption",
          "islanding",
          "intentional attack",
          "intentional attack",
          "islanding",
          "islanding",
          "system operability disruption",
          "islanding",
          "public appeal",
          "fuel supply emergency",
          "severe weather",
          "public appeal",
          "intentional attack",
          "fuel supply emergency",
          "intentional attack",
          "equipment failure",
          "severe weather",
          "severe weather",
          "islanding",
          "islanding",
          "severe weather",
          "islanding",
          "system operability disruption",
          "fuel supply emergency",
          "severe weather",
          "severe weather",
          "severe weather",
          "fuel supply emergency",
          "intentional attack",
          "system operability disruption",
          "severe weather",
          "public appeal",
          "severe weather",
          "severe weather",
          "severe weather",
          "public appeal",
          "system operability disruption",
          "system operability disruption",
          "islanding",
          "severe weather",
          "severe weather",
          "severe weather",
          "fuel supply emergency",
          "system operability disruption",
          "severe weather",
          "fuel supply emergency",
          "severe weather",
          "severe weather",
          "severe weather",
          "intentional attack",
          "islanding",
          "equipment failure",
          "system operability disruption",
          "equipment failure",
          "system operability disruption",
          "system operability disruption",
          "severe weather",
          "severe weather",
          "islanding",
          "islanding",
          "islanding",
          "severe weather",
          "severe weather",
          "fuel supply emergency",
          "severe weather",
          "intentional attack",
          "severe weather",
          "severe weather",
          "fuel supply emergency",
          "equipment failure",
          "system operability disruption",
          "intentional attack",
          "severe weather",
          "islanding",
          "severe weather",
          "equipment failure",
          "intentional attack",
          "severe weather",
          "intentional attack",
          "severe weather",
          "severe weather",
          "severe weather",
          "severe weather",
          "public appeal",
          "public appeal",
          "public appeal",
          "public appeal",
          "intentional attack",
          "severe weather",
          "public appeal",
          "public appeal",
          "severe weather",
          "intentional attack",
          "severe weather",
          "intentional attack",
          "public appeal",
          "intentional attack",
          "severe weather",
          "severe weather",
          "severe weather",
          "severe weather",
          "intentional attack",
          "severe weather",
          "severe weather",
          "severe weather",
          "equipment failure",
          "severe weather",
          "severe weather",
          "severe weather",
          "severe weather",
          "severe weather",
          "severe weather",
          "severe weather",
          "severe weather",
          "severe weather",
          "system operability disruption",
          "severe weather",
          "public appeal",
          "severe weather",
          "severe weather",
          "severe weather",
          "severe weather",
          "severe weather",
          "severe weather",
          "severe weather",
          "severe weather",
          "severe weather",
          "severe weather",
          "severe weather",
          "public appeal",
          "severe weather",
          "severe weather",
          "severe weather",
          "severe weather",
          "public appeal",
          "severe weather",
          "severe weather",
          "severe weather",
          "severe weather",
          "intentional attack",
          "intentional attack",
          "intentional attack",
          "islanding",
          "equipment failure",
          "intentional attack",
          "intentional attack",
          "system operability disruption",
          "intentional attack",
          "intentional attack",
          "intentional attack",
          "intentional attack",
          "fuel supply emergency",
          "intentional attack",
          "intentional attack",
          "intentional attack",
          "intentional attack",
          "intentional attack",
          "intentional attack",
          "intentional attack",
          "intentional attack",
          "intentional attack",
          "severe weather",
          "severe weather",
          "severe weather",
          "severe weather",
          "severe weather",
          "severe weather",
          "severe weather",
          "severe weather",
          "severe weather",
          "severe weather",
          "severe weather",
          "severe weather",
          "severe weather",
          "severe weather",
          "severe weather",
          "severe weather",
          "intentional attack",
          "intentional attack",
          "intentional attack",
          "severe weather",
          "severe weather",
          "intentional attack",
          "intentional attack",
          "severe weather",
          "severe weather",
          "intentional attack",
          "intentional attack",
          "severe weather",
          "severe weather",
          "intentional attack",
          "severe weather",
          "severe weather",
          "severe weather",
          "intentional attack",
          "severe weather",
          "severe weather",
          "intentional attack",
          "severe weather",
          "severe weather",
          "islanding",
          "severe weather",
          "public appeal",
          "severe weather",
          "severe weather",
          "severe weather",
          "severe weather",
          "public appeal",
          "severe weather",
          "severe weather",
          "severe weather",
          "public appeal",
          "severe weather",
          "severe weather",
          "intentional attack",
          "severe weather",
          "severe weather",
          "severe weather",
          "intentional attack",
          "severe weather",
          "severe weather",
          "system operability disruption",
          "severe weather",
          "intentional attack",
          "intentional attack",
          "system operability disruption",
          "severe weather",
          "intentional attack",
          "severe weather",
          "severe weather",
          "severe weather",
          "intentional attack",
          "intentional attack",
          "intentional attack",
          "severe weather",
          "intentional attack",
          "fuel supply emergency",
          "intentional attack",
          "fuel supply emergency",
          "intentional attack",
          "intentional attack",
          "severe weather",
          "intentional attack",
          "intentional attack",
          "intentional attack",
          "severe weather",
          "severe weather",
          "severe weather",
          "severe weather",
          "severe weather",
          "intentional attack",
          "severe weather",
          "intentional attack",
          "islanding",
          "severe weather",
          "severe weather",
          "severe weather",
          "severe weather",
          "intentional attack",
          "intentional attack",
          "intentional attack",
          "intentional attack",
          "intentional attack",
          "intentional attack",
          "intentional attack",
          "intentional attack",
          "severe weather",
          "intentional attack",
          "intentional attack",
          "intentional attack",
          "intentional attack",
          "intentional attack",
          "intentional attack",
          "intentional attack",
          "intentional attack",
          "intentional attack",
          "intentional attack",
          "intentional attack",
          "islanding",
          "intentional attack",
          "fuel supply emergency",
          "severe weather",
          "severe weather",
          "system operability disruption",
          "intentional attack",
          "severe weather",
          "intentional attack",
          "system operability disruption",
          "system operability disruption",
          "system operability disruption",
          "intentional attack",
          "severe weather",
          "intentional attack",
          "severe weather",
          "intentional attack",
          "intentional attack",
          "severe weather",
          "severe weather",
          "intentional attack",
          "public appeal",
          "severe weather",
          "severe weather",
          "severe weather",
          "severe weather",
          "severe weather",
          "system operability disruption",
          "severe weather",
          "system operability disruption",
          "intentional attack",
          "system operability disruption",
          "intentional attack",
          "public appeal",
          "intentional attack",
          "intentional attack",
          "intentional attack",
          "system operability disruption",
          "public appeal",
          "fuel supply emergency",
          "islanding",
          "islanding",
          "equipment failure"
         ],
         "xaxis": "x",
         "y": [
          70000,
          null,
          70000,
          68200,
          250000,
          60000,
          63000,
          300000,
          5941,
          400000,
          193000,
          200000,
          0,
          0,
          55951,
          null,
          null,
          null,
          64000,
          57000,
          null,
          50001,
          0,
          null,
          null,
          null,
          106300,
          63000,
          56475,
          null,
          null,
          73000,
          215,
          50000,
          38500,
          105000,
          null,
          null,
          null,
          80000,
          63000,
          136000,
          65904,
          null,
          null,
          null,
          null,
          0,
          null,
          null,
          null,
          48000,
          7000,
          null,
          null,
          52000,
          null,
          0,
          110000,
          7600,
          63000,
          0,
          null,
          null,
          120000,
          null,
          null,
          51160,
          null,
          null,
          66383,
          208000,
          265000,
          113000,
          53000,
          245000,
          null,
          145314,
          60000,
          2100000,
          425000,
          78213,
          150000,
          164000,
          140000,
          70793,
          134288,
          60000,
          69000,
          75000,
          105000,
          118000,
          201580,
          325325,
          118000,
          131000,
          160000,
          0,
          50000,
          133777,
          125000,
          248209,
          162000,
          160895,
          210517,
          111000,
          247847,
          68000,
          null,
          50000,
          285000,
          86915,
          122000,
          65562,
          50114,
          null,
          252089,
          2,
          137000,
          80000,
          null,
          53000,
          130000,
          182000,
          0,
          50000,
          60175,
          146500,
          101000,
          null,
          239663,
          230000,
          150000,
          111393,
          250000,
          138802,
          75000,
          358000,
          127534,
          122600,
          140735,
          66000,
          160000,
          156627,
          0,
          114711,
          99188,
          85000,
          159870,
          75000,
          72520,
          100000,
          99000,
          272355,
          315000,
          190000,
          58156,
          82000,
          168000,
          0,
          197166,
          103000,
          129607,
          138000,
          138000,
          56000,
          105000,
          65000,
          30000,
          null,
          86013,
          52000,
          3314,
          null,
          null,
          119000,
          57000,
          454000,
          null,
          489478,
          126000,
          79741,
          null,
          null,
          118000,
          0,
          108000,
          238000,
          null,
          96000,
          280982,
          98700,
          null,
          79000,
          0,
          200000,
          85000,
          200000,
          null,
          null,
          68530,
          67000,
          2142678,
          null,
          130252,
          60000,
          0,
          262000,
          null,
          null,
          null,
          192000,
          71823,
          0,
          73000,
          0,
          64801,
          211266,
          62000,
          null,
          null,
          83000,
          100000,
          70000,
          214864,
          80000,
          null,
          null,
          219681,
          78000,
          2000000,
          500000,
          null,
          715000,
          null,
          100000,
          1069730,
          51404,
          175000,
          43000,
          881000,
          85000,
          68000,
          17311,
          488689,
          null,
          0,
          0,
          238392,
          340350,
          null,
          null,
          24506,
          158000,
          234393,
          89000,
          0,
          73000,
          120377,
          null,
          null,
          0,
          63000,
          null,
          171117,
          0,
          57531,
          123000,
          2504366,
          9000,
          61000,
          0,
          36073,
          null,
          113247,
          null,
          null,
          500000,
          null,
          82000,
          132000,
          81586,
          70000,
          415103,
          300000,
          800000,
          65000,
          62500,
          100000,
          157019,
          null,
          null,
          243000,
          114000,
          null,
          127000,
          null,
          135000,
          61705,
          0,
          9700,
          124000,
          9700,
          50000,
          9700,
          null,
          75065,
          7500,
          201000,
          null,
          61705,
          56000,
          9800,
          82621,
          0,
          114791,
          61413,
          94345,
          186000,
          86615,
          215387,
          70000,
          null,
          9600,
          52702,
          null,
          0,
          null,
          141000,
          63000,
          null,
          53000,
          9700,
          53700,
          null,
          58000,
          null,
          75000,
          65000,
          160000,
          60000,
          75000,
          111644,
          null,
          null,
          10000,
          null,
          0,
          0,
          300000,
          101830,
          629590,
          109000,
          192106,
          181000,
          190000,
          471932,
          400000,
          51500,
          121000,
          420000,
          245000,
          127000,
          169000,
          320000,
          11000,
          330000,
          109000,
          283451,
          300000,
          72000,
          157000,
          80000,
          653000,
          71500,
          200000,
          65400,
          237000,
          135000,
          115000,
          51000,
          239567,
          null,
          165000,
          325000,
          127000,
          130000,
          169000,
          170519,
          190000,
          500000,
          125000,
          null,
          68800,
          null,
          null,
          null,
          92090,
          null,
          250000,
          null,
          null,
          null,
          null,
          0,
          null,
          0,
          145000,
          63992,
          null,
          null,
          426000,
          null,
          null,
          76300,
          110433,
          null,
          0,
          null,
          0,
          null,
          105000,
          null,
          null,
          0,
          null,
          0,
          0,
          null,
          140000,
          56000,
          null,
          500000,
          0,
          93300,
          0,
          0,
          null,
          0,
          160000,
          0,
          null,
          null,
          89000,
          8000,
          null,
          123535,
          null,
          0,
          null,
          null,
          null,
          0,
          null,
          null,
          null,
          0,
          300000,
          null,
          null,
          175000,
          null,
          null,
          null,
          200000,
          null,
          null,
          null,
          null,
          null,
          null,
          0,
          null,
          0,
          null,
          172060,
          123827,
          75000,
          null,
          50000,
          0,
          null,
          null,
          700000,
          null,
          187000,
          null,
          null,
          64000,
          null,
          null,
          160000,
          null,
          null,
          null,
          null,
          47000,
          null,
          null,
          null,
          140000,
          null,
          null,
          null,
          40911,
          0,
          null,
          2713,
          null,
          null,
          null,
          null,
          null,
          null,
          null,
          69000,
          null,
          30000,
          90000,
          60000,
          70000,
          60000,
          108000,
          122000,
          180000,
          87600,
          null,
          0,
          0,
          0,
          null,
          0,
          null,
          108000,
          null,
          null,
          104195,
          93000,
          0,
          null,
          null,
          55118,
          0,
          297700,
          0,
          650000,
          234326,
          null,
          70000,
          86390,
          0,
          null,
          1,
          219000,
          1,
          181000,
          110000,
          0,
          133000,
          0,
          null,
          65000,
          249408,
          0,
          85091,
          138000,
          null,
          0,
          0,
          153000,
          155183,
          124000,
          760113,
          600000,
          null,
          64943,
          null,
          167564,
          50000,
          120000,
          null,
          null,
          57000,
          146721,
          198000,
          400000,
          146094,
          111555,
          52000,
          64500,
          143000,
          200717,
          142315,
          0,
          82861,
          105312,
          185000,
          109335,
          93837,
          200000,
          62000,
          213000,
          850000,
          124596,
          118000,
          null,
          105000,
          177528,
          264000,
          715000,
          null,
          160875,
          132000,
          65112,
          55000,
          492955,
          62159,
          null,
          43903,
          120001,
          144000,
          168449,
          null,
          0,
          106000,
          284000,
          65000,
          95630,
          312359,
          0,
          270000,
          35000,
          355000,
          223000,
          null,
          null,
          78000,
          181700,
          null,
          110,
          375000,
          76000,
          383000,
          190000,
          0,
          18000,
          3500,
          0,
          0,
          null,
          null,
          null,
          null,
          null,
          37,
          0,
          5763,
          85179,
          0,
          0,
          null,
          null,
          0,
          null,
          0,
          null,
          74031,
          60000,
          0,
          0,
          0,
          null,
          0,
          null,
          0,
          0,
          null,
          0,
          0,
          null,
          null,
          null,
          null,
          0,
          null,
          0,
          null,
          null,
          281000,
          null,
          127000,
          null,
          0,
          0,
          null,
          null,
          95000,
          45000,
          134500,
          175000,
          107833,
          67000,
          184000,
          246990,
          122314,
          1203000,
          0,
          211000,
          0,
          null,
          null,
          57054,
          150000,
          56000,
          0,
          0,
          50636,
          0,
          564728,
          59106,
          0,
          184000,
          245164,
          2000,
          23000,
          0,
          52747,
          48102,
          86000,
          346000,
          null,
          100000,
          60000,
          72000,
          220000,
          12000,
          null,
          70135,
          6100,
          200000,
          1200,
          103776,
          69106,
          203345,
          50718,
          130000,
          null,
          1200,
          null,
          340000,
          71000,
          61000,
          51600,
          53000,
          12000,
          29376,
          50000,
          112000,
          136000,
          61377,
          0,
          175000,
          0,
          47000,
          null,
          285465,
          50000,
          57000,
          320000,
          4196,
          370900,
          0,
          156338,
          100000,
          650000,
          null,
          197000,
          135000,
          0,
          95400,
          73000,
          248800,
          156729,
          0,
          140000,
          263000,
          50900,
          0,
          130000,
          75654,
          0,
          null,
          50000,
          0,
          0,
          150000,
          205000,
          null,
          217000,
          180000,
          67900,
          665000,
          221000,
          null,
          379000,
          360000,
          125000,
          50465,
          677858,
          120124,
          133000,
          150000,
          81000,
          677858,
          9000,
          2500,
          71000,
          null,
          null,
          0,
          null,
          3,
          null,
          null,
          249500,
          null,
          null,
          0,
          null,
          null,
          111000,
          0,
          null,
          0,
          null,
          84500,
          null,
          0,
          null,
          null,
          97651,
          220000,
          76729,
          530000,
          210000,
          52000,
          null,
          40000,
          425000,
          101003,
          null,
          83000,
          null,
          62500,
          null,
          null,
          0,
          63000,
          53000,
          20000,
          70000,
          55000,
          0,
          0,
          100000,
          56444,
          95000,
          18400,
          0,
          null,
          null,
          0,
          0,
          0,
          0,
          0,
          null,
          0,
          null,
          0,
          null,
          0,
          null,
          0,
          0,
          0,
          null,
          null,
          0,
          0,
          null,
          null,
          null,
          0,
          0,
          0,
          null,
          null,
          null,
          0,
          0,
          0,
          65000,
          null,
          null,
          null,
          0,
          0,
          null,
          140000,
          null,
          null,
          0,
          null,
          215000,
          21000,
          null,
          null,
          null,
          160000,
          632816,
          818000,
          152261,
          null,
          null,
          116000,
          145000,
          0,
          59000,
          300000,
          56645,
          null,
          0,
          18600,
          null,
          null,
          190000,
          null,
          null,
          61795,
          null,
          74300,
          173000,
          60000,
          0,
          54316,
          null,
          null,
          68000,
          null,
          3125350,
          0,
          null,
          null,
          50000,
          null,
          137000,
          100000,
          153000,
          null,
          55000,
          0,
          200000,
          150000,
          null,
          null,
          null,
          50280,
          18600,
          99700,
          65000,
          180000,
          null,
          null,
          0,
          61000,
          0,
          120000,
          50000,
          null,
          250000,
          371000,
          null,
          null,
          null,
          161151,
          18600,
          25000,
          null,
          null,
          null,
          null,
          59057,
          null,
          null,
          1100000,
          null,
          null,
          85000,
          null,
          287000,
          null,
          1,
          null,
          57184,
          143000,
          11000,
          11000,
          null,
          null,
          246092,
          null,
          null,
          150000,
          50000,
          190000,
          null,
          95000,
          50000,
          null,
          null,
          null,
          21800,
          28000,
          242910,
          null,
          125000,
          68018,
          null,
          null,
          0,
          440000,
          0,
          0,
          584384,
          430000,
          0,
          25000,
          50000,
          105000,
          150000,
          0,
          0,
          1200000,
          179000,
          42124,
          null,
          0,
          0,
          53965,
          31000,
          2775093,
          0,
          101950,
          37,
          110000,
          78000,
          84900,
          56000,
          47661,
          722000,
          104498,
          832898,
          32593,
          285300,
          268000,
          3241437,
          26000,
          502000,
          0,
          23000,
          26000,
          87000,
          20900,
          16500,
          null,
          null,
          null,
          null,
          null,
          0,
          null,
          null,
          128050,
          124000,
          900000,
          null,
          148000,
          37784,
          null,
          6810,
          79000,
          null,
          2500,
          null,
          150000,
          null,
          15000,
          null,
          26000,
          0,
          null,
          null,
          150000,
          290000,
          10000,
          850068,
          null,
          70000,
          null,
          null,
          null,
          10008,
          407440,
          477,
          50000,
          130000,
          null,
          null,
          727,
          484,
          0,
          1,
          48400,
          58850,
          94000,
          433,
          null,
          55655,
          null,
          442000,
          30000,
          89500,
          null,
          null,
          null,
          null,
          null,
          null,
          4300,
          160000,
          100000,
          1271893,
          0,
          80000,
          0,
          80000,
          null,
          null,
          505000,
          null,
          null,
          409000,
          65255,
          null,
          null,
          null,
          939000,
          6800,
          2606931,
          null,
          null,
          null,
          null,
          109750,
          null,
          null,
          0,
          7077,
          null,
          null,
          1700000,
          255000,
          59458,
          95000,
          147223,
          0,
          50000,
          2035,
          241000,
          426,
          108000,
          null,
          78164,
          null,
          null,
          9956,
          182000,
          null,
          null,
          null,
          430984,
          859554,
          null,
          null,
          65000,
          70,
          null,
          165000,
          null,
          140000,
          1667316,
          null,
          280000,
          0,
          385000,
          125000,
          0,
          55677,
          1,
          484,
          127,
          133900,
          32000,
          null,
          null,
          0,
          4,
          2650,
          null,
          5314,
          null,
          null,
          73514,
          null,
          0,
          null,
          420,
          null,
          200000,
          54332,
          6635,
          70,
          128000,
          2674,
          null,
          null,
          940,
          20345,
          null,
          0,
          null,
          70848,
          91690,
          null,
          300000,
          90323,
          263000,
          null,
          25000,
          104000,
          638,
          1400000,
          158977,
          null,
          null,
          null,
          1500000,
          null,
          1400000,
          68780,
          9956,
          0,
          7077,
          123000,
          null,
          1,
          80000,
          null,
          null,
          115500,
          null,
          0,
          1,
          null,
          60000,
          null,
          null,
          null,
          0,
          671189,
          null,
          120000,
          400000,
          null,
          111818,
          null,
          215700,
          null,
          null,
          64951,
          null,
          null,
          null,
          13000,
          null,
          7935,
          25159,
          0,
          13000,
          null,
          43000,
          null,
          8000,
          50797,
          null,
          57200,
          9200,
          null,
          null,
          115000,
          51580,
          0,
          88000,
          null,
          88110,
          52739,
          67000,
          37000,
          60000,
          119000,
          150084,
          156000,
          56000,
          175000,
          107000,
          55000,
          81000,
          600000,
          880000,
          null,
          119000,
          145157,
          217000,
          253800,
          114618,
          233000,
          130000,
          75000,
          80000,
          58500,
          67000,
          null,
          50000,
          126000,
          283000,
          190000,
          null,
          126000,
          120212,
          15000,
          35500,
          0,
          0,
          null,
          null,
          null,
          0,
          null,
          500000,
          null,
          null,
          0,
          null,
          null,
          null,
          0,
          0,
          null,
          null,
          null,
          0,
          0,
          0,
          47165,
          82000,
          30689,
          150000,
          218783,
          93828,
          52659,
          186035,
          109000,
          80539,
          83450,
          66445,
          102000,
          373835,
          85455,
          169000,
          null,
          0,
          null,
          158000,
          50752,
          null,
          0,
          56400,
          75000,
          null,
          0,
          67000,
          50100,
          null,
          50246,
          224912,
          0,
          null,
          52000,
          54476,
          0,
          1881134,
          112000,
          14500,
          68705,
          null,
          null,
          256663,
          50500,
          96966,
          null,
          35000,
          54000,
          41306,
          null,
          127000,
          92748,
          0,
          56874,
          55609,
          1500,
          null,
          54000,
          80000,
          29250,
          50000,
          0,
          0,
          130000,
          50000,
          null,
          50000,
          50000,
          380000,
          50500,
          null,
          null,
          300000,
          0,
          1,
          0,
          0,
          0,
          0,
          127545,
          null,
          0,
          0,
          131000,
          63000,
          169757,
          50462,
          60863,
          null,
          52500,
          0,
          0,
          110000,
          50000,
          117142,
          50000,
          0,
          0,
          0,
          null,
          0,
          0,
          0,
          null,
          102568,
          0,
          null,
          0,
          0,
          0,
          1100,
          0,
          null,
          null,
          110000,
          0,
          35230,
          0,
          0,
          204000,
          86058,
          null,
          null,
          0,
          null,
          31000,
          null,
          30379,
          0,
          65000,
          0,
          270000,
          null,
          0,
          70000,
          95000,
          0,
          null,
          110000,
          211000,
          294000,
          62000,
          59886,
          29300,
          291000,
          null,
          0,
          35000,
          0,
          0,
          null,
          0,
          0,
          null,
          34500,
          null,
          null,
          null,
          14273
         ],
         "yaxis": "y"
        }
       ],
       "layout": {
        "barmode": "relative",
        "legend": {
         "tracegroupgap": 0
        },
        "margin": {
         "t": 60
        },
        "template": {
         "data": {
          "bar": [
           {
            "error_x": {
             "color": "#2a3f5f"
            },
            "error_y": {
             "color": "#2a3f5f"
            },
            "marker": {
             "line": {
              "color": "#E5ECF6",
              "width": 0.5
             },
             "pattern": {
              "fillmode": "overlay",
              "size": 10,
              "solidity": 0.2
             }
            },
            "type": "bar"
           }
          ],
          "barpolar": [
           {
            "marker": {
             "line": {
              "color": "#E5ECF6",
              "width": 0.5
             },
             "pattern": {
              "fillmode": "overlay",
              "size": 10,
              "solidity": 0.2
             }
            },
            "type": "barpolar"
           }
          ],
          "carpet": [
           {
            "aaxis": {
             "endlinecolor": "#2a3f5f",
             "gridcolor": "white",
             "linecolor": "white",
             "minorgridcolor": "white",
             "startlinecolor": "#2a3f5f"
            },
            "baxis": {
             "endlinecolor": "#2a3f5f",
             "gridcolor": "white",
             "linecolor": "white",
             "minorgridcolor": "white",
             "startlinecolor": "#2a3f5f"
            },
            "type": "carpet"
           }
          ],
          "choropleth": [
           {
            "colorbar": {
             "outlinewidth": 0,
             "ticks": ""
            },
            "type": "choropleth"
           }
          ],
          "contour": [
           {
            "colorbar": {
             "outlinewidth": 0,
             "ticks": ""
            },
            "colorscale": [
             [
              0,
              "#0d0887"
             ],
             [
              0.1111111111111111,
              "#46039f"
             ],
             [
              0.2222222222222222,
              "#7201a8"
             ],
             [
              0.3333333333333333,
              "#9c179e"
             ],
             [
              0.4444444444444444,
              "#bd3786"
             ],
             [
              0.5555555555555556,
              "#d8576b"
             ],
             [
              0.6666666666666666,
              "#ed7953"
             ],
             [
              0.7777777777777778,
              "#fb9f3a"
             ],
             [
              0.8888888888888888,
              "#fdca26"
             ],
             [
              1,
              "#f0f921"
             ]
            ],
            "type": "contour"
           }
          ],
          "contourcarpet": [
           {
            "colorbar": {
             "outlinewidth": 0,
             "ticks": ""
            },
            "type": "contourcarpet"
           }
          ],
          "heatmap": [
           {
            "colorbar": {
             "outlinewidth": 0,
             "ticks": ""
            },
            "colorscale": [
             [
              0,
              "#0d0887"
             ],
             [
              0.1111111111111111,
              "#46039f"
             ],
             [
              0.2222222222222222,
              "#7201a8"
             ],
             [
              0.3333333333333333,
              "#9c179e"
             ],
             [
              0.4444444444444444,
              "#bd3786"
             ],
             [
              0.5555555555555556,
              "#d8576b"
             ],
             [
              0.6666666666666666,
              "#ed7953"
             ],
             [
              0.7777777777777778,
              "#fb9f3a"
             ],
             [
              0.8888888888888888,
              "#fdca26"
             ],
             [
              1,
              "#f0f921"
             ]
            ],
            "type": "heatmap"
           }
          ],
          "heatmapgl": [
           {
            "colorbar": {
             "outlinewidth": 0,
             "ticks": ""
            },
            "colorscale": [
             [
              0,
              "#0d0887"
             ],
             [
              0.1111111111111111,
              "#46039f"
             ],
             [
              0.2222222222222222,
              "#7201a8"
             ],
             [
              0.3333333333333333,
              "#9c179e"
             ],
             [
              0.4444444444444444,
              "#bd3786"
             ],
             [
              0.5555555555555556,
              "#d8576b"
             ],
             [
              0.6666666666666666,
              "#ed7953"
             ],
             [
              0.7777777777777778,
              "#fb9f3a"
             ],
             [
              0.8888888888888888,
              "#fdca26"
             ],
             [
              1,
              "#f0f921"
             ]
            ],
            "type": "heatmapgl"
           }
          ],
          "histogram": [
           {
            "marker": {
             "pattern": {
              "fillmode": "overlay",
              "size": 10,
              "solidity": 0.2
             }
            },
            "type": "histogram"
           }
          ],
          "histogram2d": [
           {
            "colorbar": {
             "outlinewidth": 0,
             "ticks": ""
            },
            "colorscale": [
             [
              0,
              "#0d0887"
             ],
             [
              0.1111111111111111,
              "#46039f"
             ],
             [
              0.2222222222222222,
              "#7201a8"
             ],
             [
              0.3333333333333333,
              "#9c179e"
             ],
             [
              0.4444444444444444,
              "#bd3786"
             ],
             [
              0.5555555555555556,
              "#d8576b"
             ],
             [
              0.6666666666666666,
              "#ed7953"
             ],
             [
              0.7777777777777778,
              "#fb9f3a"
             ],
             [
              0.8888888888888888,
              "#fdca26"
             ],
             [
              1,
              "#f0f921"
             ]
            ],
            "type": "histogram2d"
           }
          ],
          "histogram2dcontour": [
           {
            "colorbar": {
             "outlinewidth": 0,
             "ticks": ""
            },
            "colorscale": [
             [
              0,
              "#0d0887"
             ],
             [
              0.1111111111111111,
              "#46039f"
             ],
             [
              0.2222222222222222,
              "#7201a8"
             ],
             [
              0.3333333333333333,
              "#9c179e"
             ],
             [
              0.4444444444444444,
              "#bd3786"
             ],
             [
              0.5555555555555556,
              "#d8576b"
             ],
             [
              0.6666666666666666,
              "#ed7953"
             ],
             [
              0.7777777777777778,
              "#fb9f3a"
             ],
             [
              0.8888888888888888,
              "#fdca26"
             ],
             [
              1,
              "#f0f921"
             ]
            ],
            "type": "histogram2dcontour"
           }
          ],
          "mesh3d": [
           {
            "colorbar": {
             "outlinewidth": 0,
             "ticks": ""
            },
            "type": "mesh3d"
           }
          ],
          "parcoords": [
           {
            "line": {
             "colorbar": {
              "outlinewidth": 0,
              "ticks": ""
             }
            },
            "type": "parcoords"
           }
          ],
          "pie": [
           {
            "automargin": true,
            "type": "pie"
           }
          ],
          "scatter": [
           {
            "fillpattern": {
             "fillmode": "overlay",
             "size": 10,
             "solidity": 0.2
            },
            "type": "scatter"
           }
          ],
          "scatter3d": [
           {
            "line": {
             "colorbar": {
              "outlinewidth": 0,
              "ticks": ""
             }
            },
            "marker": {
             "colorbar": {
              "outlinewidth": 0,
              "ticks": ""
             }
            },
            "type": "scatter3d"
           }
          ],
          "scattercarpet": [
           {
            "marker": {
             "colorbar": {
              "outlinewidth": 0,
              "ticks": ""
             }
            },
            "type": "scattercarpet"
           }
          ],
          "scattergeo": [
           {
            "marker": {
             "colorbar": {
              "outlinewidth": 0,
              "ticks": ""
             }
            },
            "type": "scattergeo"
           }
          ],
          "scattergl": [
           {
            "marker": {
             "colorbar": {
              "outlinewidth": 0,
              "ticks": ""
             }
            },
            "type": "scattergl"
           }
          ],
          "scattermapbox": [
           {
            "marker": {
             "colorbar": {
              "outlinewidth": 0,
              "ticks": ""
             }
            },
            "type": "scattermapbox"
           }
          ],
          "scatterpolar": [
           {
            "marker": {
             "colorbar": {
              "outlinewidth": 0,
              "ticks": ""
             }
            },
            "type": "scatterpolar"
           }
          ],
          "scatterpolargl": [
           {
            "marker": {
             "colorbar": {
              "outlinewidth": 0,
              "ticks": ""
             }
            },
            "type": "scatterpolargl"
           }
          ],
          "scatterternary": [
           {
            "marker": {
             "colorbar": {
              "outlinewidth": 0,
              "ticks": ""
             }
            },
            "type": "scatterternary"
           }
          ],
          "surface": [
           {
            "colorbar": {
             "outlinewidth": 0,
             "ticks": ""
            },
            "colorscale": [
             [
              0,
              "#0d0887"
             ],
             [
              0.1111111111111111,
              "#46039f"
             ],
             [
              0.2222222222222222,
              "#7201a8"
             ],
             [
              0.3333333333333333,
              "#9c179e"
             ],
             [
              0.4444444444444444,
              "#bd3786"
             ],
             [
              0.5555555555555556,
              "#d8576b"
             ],
             [
              0.6666666666666666,
              "#ed7953"
             ],
             [
              0.7777777777777778,
              "#fb9f3a"
             ],
             [
              0.8888888888888888,
              "#fdca26"
             ],
             [
              1,
              "#f0f921"
             ]
            ],
            "type": "surface"
           }
          ],
          "table": [
           {
            "cells": {
             "fill": {
              "color": "#EBF0F8"
             },
             "line": {
              "color": "white"
             }
            },
            "header": {
             "fill": {
              "color": "#C8D4E3"
             },
             "line": {
              "color": "white"
             }
            },
            "type": "table"
           }
          ]
         },
         "layout": {
          "annotationdefaults": {
           "arrowcolor": "#2a3f5f",
           "arrowhead": 0,
           "arrowwidth": 1
          },
          "autotypenumbers": "strict",
          "coloraxis": {
           "colorbar": {
            "outlinewidth": 0,
            "ticks": ""
           }
          },
          "colorscale": {
           "diverging": [
            [
             0,
             "#8e0152"
            ],
            [
             0.1,
             "#c51b7d"
            ],
            [
             0.2,
             "#de77ae"
            ],
            [
             0.3,
             "#f1b6da"
            ],
            [
             0.4,
             "#fde0ef"
            ],
            [
             0.5,
             "#f7f7f7"
            ],
            [
             0.6,
             "#e6f5d0"
            ],
            [
             0.7,
             "#b8e186"
            ],
            [
             0.8,
             "#7fbc41"
            ],
            [
             0.9,
             "#4d9221"
            ],
            [
             1,
             "#276419"
            ]
           ],
           "sequential": [
            [
             0,
             "#0d0887"
            ],
            [
             0.1111111111111111,
             "#46039f"
            ],
            [
             0.2222222222222222,
             "#7201a8"
            ],
            [
             0.3333333333333333,
             "#9c179e"
            ],
            [
             0.4444444444444444,
             "#bd3786"
            ],
            [
             0.5555555555555556,
             "#d8576b"
            ],
            [
             0.6666666666666666,
             "#ed7953"
            ],
            [
             0.7777777777777778,
             "#fb9f3a"
            ],
            [
             0.8888888888888888,
             "#fdca26"
            ],
            [
             1,
             "#f0f921"
            ]
           ],
           "sequentialminus": [
            [
             0,
             "#0d0887"
            ],
            [
             0.1111111111111111,
             "#46039f"
            ],
            [
             0.2222222222222222,
             "#7201a8"
            ],
            [
             0.3333333333333333,
             "#9c179e"
            ],
            [
             0.4444444444444444,
             "#bd3786"
            ],
            [
             0.5555555555555556,
             "#d8576b"
            ],
            [
             0.6666666666666666,
             "#ed7953"
            ],
            [
             0.7777777777777778,
             "#fb9f3a"
            ],
            [
             0.8888888888888888,
             "#fdca26"
            ],
            [
             1,
             "#f0f921"
            ]
           ]
          },
          "colorway": [
           "#636efa",
           "#EF553B",
           "#00cc96",
           "#ab63fa",
           "#FFA15A",
           "#19d3f3",
           "#FF6692",
           "#B6E880",
           "#FF97FF",
           "#FECB52"
          ],
          "font": {
           "color": "#2a3f5f"
          },
          "geo": {
           "bgcolor": "white",
           "lakecolor": "white",
           "landcolor": "#E5ECF6",
           "showlakes": true,
           "showland": true,
           "subunitcolor": "white"
          },
          "hoverlabel": {
           "align": "left"
          },
          "hovermode": "closest",
          "mapbox": {
           "style": "light"
          },
          "paper_bgcolor": "white",
          "plot_bgcolor": "#E5ECF6",
          "polar": {
           "angularaxis": {
            "gridcolor": "white",
            "linecolor": "white",
            "ticks": ""
           },
           "bgcolor": "#E5ECF6",
           "radialaxis": {
            "gridcolor": "white",
            "linecolor": "white",
            "ticks": ""
           }
          },
          "scene": {
           "xaxis": {
            "backgroundcolor": "#E5ECF6",
            "gridcolor": "white",
            "gridwidth": 2,
            "linecolor": "white",
            "showbackground": true,
            "ticks": "",
            "zerolinecolor": "white"
           },
           "yaxis": {
            "backgroundcolor": "#E5ECF6",
            "gridcolor": "white",
            "gridwidth": 2,
            "linecolor": "white",
            "showbackground": true,
            "ticks": "",
            "zerolinecolor": "white"
           },
           "zaxis": {
            "backgroundcolor": "#E5ECF6",
            "gridcolor": "white",
            "gridwidth": 2,
            "linecolor": "white",
            "showbackground": true,
            "ticks": "",
            "zerolinecolor": "white"
           }
          },
          "shapedefaults": {
           "line": {
            "color": "#2a3f5f"
           }
          },
          "ternary": {
           "aaxis": {
            "gridcolor": "white",
            "linecolor": "white",
            "ticks": ""
           },
           "baxis": {
            "gridcolor": "white",
            "linecolor": "white",
            "ticks": ""
           },
           "bgcolor": "#E5ECF6",
           "caxis": {
            "gridcolor": "white",
            "linecolor": "white",
            "ticks": ""
           }
          },
          "title": {
           "x": 0.05
          },
          "xaxis": {
           "automargin": true,
           "gridcolor": "white",
           "linecolor": "white",
           "ticks": "",
           "title": {
            "standoff": 15
           },
           "zerolinecolor": "white",
           "zerolinewidth": 2
          },
          "yaxis": {
           "automargin": true,
           "gridcolor": "white",
           "linecolor": "white",
           "ticks": "",
           "title": {
            "standoff": 15
           },
           "zerolinecolor": "white",
           "zerolinewidth": 2
          }
         }
        },
        "xaxis": {
         "anchor": "y",
         "domain": [
          0,
          1
         ],
         "title": {
          "text": "CAUSE.CATEGORY"
         }
        },
        "yaxis": {
         "anchor": "x",
         "domain": [
          0,
          1
         ],
         "title": {
          "text": "CUSTOMERS.AFFECTED"
         }
        }
       }
      }
     },
     "metadata": {},
     "output_type": "display_data"
    }
   ],
   "source": [
    "px.bar(data,x='CAUSE.CATEGORY',y='CUSTOMERS.AFFECTED')"
   ]
  },
  {
   "cell_type": "markdown",
   "metadata": {},
   "source": [
    "### Baseline Model"
   ]
  },
  {
   "cell_type": "code",
   "execution_count": 433,
   "metadata": {},
   "outputs": [],
   "source": [
    "# Choose the features below\n",
    "features = ['POSTAL.CODE', 'ANOMALY.LEVEL', 'OUTAGE.DURATION', 'MONTH', 'CAUSE.CATEGORY']\n",
    "\n",
    "data_class = data[features].dropna()\n",
    "\n",
    "X = data_class[['POSTAL.CODE', 'ANOMALY.LEVEL', 'MONTH']]\n",
    "y = data_class['CAUSE.CATEGORY']\n",
    "\n",
    "#split training and test data\n",
    "X_train, X_test, y_train, y_test = train_test_split(X, y, test_size=0.2)\n",
    "\n",
    "#One Hot Encode Postal Code and pass the rest into a Random Forest Classifier\n",
    "col_trans = ColumnTransformer([\n",
    "    ('one-hot', OneHotEncoder(handle_unknown='ignore'), ['POSTAL.CODE'])],\n",
    "    remainder = 'passthrough')\n",
    "pl = Pipeline([\n",
    "    ('col_trans', col_trans),\n",
    "    ('forest', RandomForestClassifier())\n",
    "])\n",
    "\n",
    "pl.fit(X_train, y_train)\n",
    "prediction = pl.predict(X_test)\n"
   ]
  },
  {
   "cell_type": "markdown",
   "metadata": {},
   "source": []
  },
  {
   "cell_type": "code",
   "execution_count": 396,
   "metadata": {},
   "outputs": [
    {
     "data": {
      "text/plain": [
       "0.6655405405405406"
      ]
     },
     "execution_count": 396,
     "metadata": {},
     "output_type": "execute_result"
    }
   ],
   "source": [
    "accuracy_score(y_test, prediction)"
   ]
  },
  {
   "cell_type": "code",
   "execution_count": 397,
   "metadata": {},
   "outputs": [],
   "source": [
    "import pprint as pp"
   ]
  },
  {
   "cell_type": "code",
   "execution_count": 398,
   "metadata": {},
   "outputs": [],
   "source": [
    "# Create sin and cos graph for month to show circular data\n",
    "sin_cos = (lambda x: pd.DataFrame({\"sin_month\":np.sin(2*np.pi*x['MONTH']/x['MONTH'].max()),\"cos_month\":np.cos(2*np.pi*x['MONTH']/x['MONTH'].max())}))(data)\n",
    "fig = px.scatter(sin_cos,x=\"cos_month\",y=\"sin_month\",title=\"Cyclical Encoding of Months\")"
   ]
  },
  {
   "cell_type": "code",
   "execution_count": 415,
   "metadata": {},
   "outputs": [],
   "source": [
    "#fig.write_html('sig_graph.html', include_plotlyjs = 'cdn')"
   ]
  },
  {
   "cell_type": "markdown",
   "metadata": {},
   "source": [
    "### Final Model"
   ]
  },
  {
   "cell_type": "code",
   "execution_count": 416,
   "metadata": {},
   "outputs": [],
   "source": [
    "# Select the features below\n",
    "features = ['POSTAL.CODE', 'ANOMALY.LEVEL', 'OUTAGE.DURATION', 'MONTH','CUSTOMERS.AFFECTED','OUTAGE.START.DATETIME', 'CAUSE.CATEGORY']\n",
    "data_class = data[features].dropna()\n",
    "\n",
    "X = data_class[['POSTAL.CODE', 'ANOMALY.LEVEL', 'MONTH','OUTAGE.DURATION','OUTAGE.START.DATETIME','CUSTOMERS.AFFECTED']]\n",
    "y = data_class['CAUSE.CATEGORY']\n",
    "\n",
    "#Split the data into test and training parts\n",
    "X_train, X_test, y_train, y_test = train_test_split(X, y, test_size=0.2)\n",
    "\n",
    "# Create a column transformer that OHE Postal Code and splits month and hour into sin and cos columns which cyclical encode them\n",
    "col_trans = ColumnTransformer([\n",
    "    ('one-hot', OneHotEncoder(handle_unknown='ignore'), ['POSTAL.CODE']),\n",
    "    ('cyclical-encode-month', FunctionTransformer(lambda x: pd.DataFrame({\"sin_month\":np.sin(2*np.pi*x['MONTH']/x['MONTH'].max()),\"cos_month\":np.cos(2*np.pi*x['MONTH']/x['MONTH'].max())})), ['MONTH']),\n",
    "    ('cyclical-encode-hour', make_pipeline(FunctionTransformer(lambda x:pd.DataFrame({\"HOUR\":x['OUTAGE.START.DATETIME'].apply(lambda y:y.hour)})),\n",
    "                                            FunctionTransformer(lambda x: pd.DataFrame({\"sin_hour\":np.sin(2*np.pi*x['HOUR']/x['HOUR'].max()),\"cos_hour\":np.cos(2*np.pi*x['HOUR']/x['HOUR'].max())}))), ['OUTAGE.START.DATETIME'])],\n",
    "    remainder = 'passthrough')\n",
    "\n",
    "# Pass the columns into a RandomForestClassifier\n",
    "pl = Pipeline([\n",
    "    ('col_trans', col_trans),\n",
    "    ('forest', RandomForestClassifier(max_depth = 20))\n",
    "])\n",
    "\n",
    "pl.fit(X_train, y_train)\n",
    "prediction = pl.predict(X_test)\n"
   ]
  },
  {
   "cell_type": "code",
   "execution_count": 417,
   "metadata": {},
   "outputs": [
    {
     "name": "stderr",
     "output_type": "stream",
     "text": [
      "c:\\Users\\ecao7\\anaconda3\\envs\\dsc80\\lib\\site-packages\\sklearn\\model_selection\\_split.py:676: UserWarning:\n",
      "\n",
      "The least populated class in y has only 4 members, which is less than n_splits=5.\n",
      "\n"
     ]
    },
    {
     "data": {
      "text/plain": [
       "GridSearchCV(cv=5,\n",
       "             estimator=Pipeline(steps=[('col_trans',\n",
       "                                        ColumnTransformer(remainder='passthrough',\n",
       "                                                          transformers=[('one-hot',\n",
       "                                                                         OneHotEncoder(handle_unknown='ignore'),\n",
       "                                                                         ['POSTAL.CODE']),\n",
       "                                                                        ('cyclical-encode-month',\n",
       "                                                                         FunctionTransformer(func=<function <lambda> at 0x000001EB1ABB94C0>),\n",
       "                                                                         ['MONTH']),\n",
       "                                                                        ('cyclical-encode-hour',\n",
       "                                                                         Pipeline(steps=[('functiontransformer-1',\n",
       "                                                                                          FunctionTransformer(func=<function <lambda> at 0x000001EB20D44AF0>)),\n",
       "                                                                                         ('functiontransformer-2',\n",
       "                                                                                          FunctionTransformer(func=<function <lambda> at 0x000001EB20D44940>))]),\n",
       "                                                                         ['OUTAGE.START.DATETIME'])])),\n",
       "                                       ('forest',\n",
       "                                        RandomForestClassifier(max_depth=20))]),\n",
       "             param_grid={'forest__max_depth': array([ 5,  6,  7,  8,  9, 10, 11, 12, 13, 14, 15, 16, 17, 18, 19, 20, 21,\n",
       "       22, 23, 24, 25, 26, 27, 28, 29])})"
      ]
     },
     "execution_count": 417,
     "metadata": {},
     "output_type": "execute_result"
    }
   ],
   "source": [
    "# Perform Grid Search to find the best cross validation amount and the best max depth for the Random Forest\n",
    "param_grid = {\"forest__max_depth\": np.arange(5,30)}\n",
    "search = GridSearchCV(pl, param_grid,cv=5)\n",
    "search.fit(X_train,y_train)"
   ]
  },
  {
   "cell_type": "code",
   "execution_count": 418,
   "metadata": {},
   "outputs": [
    {
     "data": {
      "text/plain": [
       "{'forest__max_depth': 24}"
      ]
     },
     "execution_count": 418,
     "metadata": {},
     "output_type": "execute_result"
    }
   ],
   "source": [
    "search.best_params_"
   ]
  },
  {
   "cell_type": "code",
   "execution_count": 419,
   "metadata": {},
   "outputs": [
    {
     "data": {
      "text/plain": [
       "array([0.81045365, 0.8258594 , 0.84124401, 0.84480135, 0.84953508,\n",
       "       0.85664976, 0.85664976, 0.86256692, 0.86612426, 0.86730065,\n",
       "       0.86730065, 0.86849112, 0.86966751, 0.86966751, 0.8672936 ,\n",
       "       0.86848408, 0.87204846, 0.86967456, 0.86612426, 0.87322485,\n",
       "       0.86374331, 0.86966751, 0.86849817, 0.87085094, 0.87085799])"
      ]
     },
     "execution_count": 419,
     "metadata": {},
     "output_type": "execute_result"
    }
   ],
   "source": [
    "search.cv_results_['mean_test_score']"
   ]
  },
  {
   "cell_type": "code",
   "execution_count": 420,
   "metadata": {},
   "outputs": [
    {
     "data": {
      "text/plain": [
       "0.8773584905660378"
      ]
     },
     "execution_count": 420,
     "metadata": {},
     "output_type": "execute_result"
    }
   ],
   "source": [
    "accuracy_score(y_test, search.predict(X_test))"
   ]
  },
  {
   "cell_type": "code",
   "execution_count": 421,
   "metadata": {},
   "outputs": [
    {
     "data": {
      "text/plain": [
       "1.0"
      ]
     },
     "execution_count": 421,
     "metadata": {},
     "output_type": "execute_result"
    }
   ],
   "source": [
    "search.score(X_train, y_train)"
   ]
  },
  {
   "cell_type": "markdown",
   "metadata": {},
   "source": [
    "### Fairness Analysis"
   ]
  },
  {
   "cell_type": "code",
   "execution_count": 422,
   "metadata": {},
   "outputs": [
    {
     "data": {
      "text/html": [
       "<div>\n",
       "<style scoped>\n",
       "    .dataframe tbody tr th:only-of-type {\n",
       "        vertical-align: middle;\n",
       "    }\n",
       "\n",
       "    .dataframe tbody tr th {\n",
       "        vertical-align: top;\n",
       "    }\n",
       "\n",
       "    .dataframe thead th {\n",
       "        text-align: right;\n",
       "    }\n",
       "</style>\n",
       "<table border=\"1\" class=\"dataframe\">\n",
       "  <thead>\n",
       "    <tr style=\"text-align: right;\">\n",
       "      <th></th>\n",
       "      <th>POSTAL.CODE</th>\n",
       "      <th>ANOMALY.LEVEL</th>\n",
       "      <th>MONTH</th>\n",
       "      <th>OUTAGE.DURATION</th>\n",
       "      <th>OUTAGE.START.DATETIME</th>\n",
       "      <th>CUSTOMERS.AFFECTED</th>\n",
       "      <th>prediction</th>\n",
       "      <th>actual</th>\n",
       "      <th>Predict_right</th>\n",
       "    </tr>\n",
       "    <tr>\n",
       "      <th>OBS</th>\n",
       "      <th></th>\n",
       "      <th></th>\n",
       "      <th></th>\n",
       "      <th></th>\n",
       "      <th></th>\n",
       "      <th></th>\n",
       "      <th></th>\n",
       "      <th></th>\n",
       "      <th></th>\n",
       "    </tr>\n",
       "  </thead>\n",
       "  <tbody>\n",
       "    <tr>\n",
       "      <th>993</th>\n",
       "      <td>LA</td>\n",
       "      <td>0.3</td>\n",
       "      <td>6.0</td>\n",
       "      <td>8054.0</td>\n",
       "      <td>2004-06-02 01:46:00</td>\n",
       "      <td>59057.0</td>\n",
       "      <td>severe weather</td>\n",
       "      <td>severe weather</td>\n",
       "      <td>True</td>\n",
       "    </tr>\n",
       "    <tr>\n",
       "      <th>560</th>\n",
       "      <td>MD</td>\n",
       "      <td>-0.1</td>\n",
       "      <td>6.0</td>\n",
       "      <td>0.0</td>\n",
       "      <td>2012-06-06 12:37:00</td>\n",
       "      <td>0.0</td>\n",
       "      <td>intentional attack</td>\n",
       "      <td>intentional attack</td>\n",
       "      <td>True</td>\n",
       "    </tr>\n",
       "    <tr>\n",
       "      <th>1395</th>\n",
       "      <td>CT</td>\n",
       "      <td>0.4</td>\n",
       "      <td>6.0</td>\n",
       "      <td>4560.0</td>\n",
       "      <td>2009-06-26 17:00:00</td>\n",
       "      <td>50752.0</td>\n",
       "      <td>severe weather</td>\n",
       "      <td>severe weather</td>\n",
       "      <td>True</td>\n",
       "    </tr>\n",
       "    <tr>\n",
       "      <th>556</th>\n",
       "      <td>MD</td>\n",
       "      <td>-0.5</td>\n",
       "      <td>2.0</td>\n",
       "      <td>1.0</td>\n",
       "      <td>2014-02-05 08:05:00</td>\n",
       "      <td>181000.0</td>\n",
       "      <td>severe weather</td>\n",
       "      <td>severe weather</td>\n",
       "      <td>True</td>\n",
       "    </tr>\n",
       "    <tr>\n",
       "      <th>131</th>\n",
       "      <td>MI</td>\n",
       "      <td>-0.4</td>\n",
       "      <td>7.0</td>\n",
       "      <td>5580.0</td>\n",
       "      <td>2008-07-02 15:00:00</td>\n",
       "      <td>239663.0</td>\n",
       "      <td>severe weather</td>\n",
       "      <td>severe weather</td>\n",
       "      <td>True</td>\n",
       "    </tr>\n",
       "    <tr>\n",
       "      <th>...</th>\n",
       "      <td>...</td>\n",
       "      <td>...</td>\n",
       "      <td>...</td>\n",
       "      <td>...</td>\n",
       "      <td>...</td>\n",
       "      <td>...</td>\n",
       "      <td>...</td>\n",
       "      <td>...</td>\n",
       "      <td>...</td>\n",
       "    </tr>\n",
       "    <tr>\n",
       "      <th>613</th>\n",
       "      <td>PA</td>\n",
       "      <td>-0.6</td>\n",
       "      <td>2.0</td>\n",
       "      <td>5160.0</td>\n",
       "      <td>2009-02-12 08:00:00</td>\n",
       "      <td>132000.0</td>\n",
       "      <td>severe weather</td>\n",
       "      <td>severe weather</td>\n",
       "      <td>True</td>\n",
       "    </tr>\n",
       "    <tr>\n",
       "      <th>903</th>\n",
       "      <td>DE</td>\n",
       "      <td>1.0</td>\n",
       "      <td>6.0</td>\n",
       "      <td>4254.0</td>\n",
       "      <td>2015-06-23 17:06:00</td>\n",
       "      <td>65000.0</td>\n",
       "      <td>severe weather</td>\n",
       "      <td>severe weather</td>\n",
       "      <td>True</td>\n",
       "    </tr>\n",
       "    <tr>\n",
       "      <th>1211</th>\n",
       "      <td>CA</td>\n",
       "      <td>1.2</td>\n",
       "      <td>7.0</td>\n",
       "      <td>44.0</td>\n",
       "      <td>2015-07-27 03:52:00</td>\n",
       "      <td>484.0</td>\n",
       "      <td>islanding</td>\n",
       "      <td>islanding</td>\n",
       "      <td>True</td>\n",
       "    </tr>\n",
       "    <tr>\n",
       "      <th>1452</th>\n",
       "      <td>ME</td>\n",
       "      <td>-1.3</td>\n",
       "      <td>12.0</td>\n",
       "      <td>1676.0</td>\n",
       "      <td>2007-12-01 18:04:00</td>\n",
       "      <td>0.0</td>\n",
       "      <td>intentional attack</td>\n",
       "      <td>fuel supply emergency</td>\n",
       "      <td>False</td>\n",
       "    </tr>\n",
       "    <tr>\n",
       "      <th>1411</th>\n",
       "      <td>OK</td>\n",
       "      <td>-0.7</td>\n",
       "      <td>1.0</td>\n",
       "      <td>110.0</td>\n",
       "      <td>2012-01-05 10:35:00</td>\n",
       "      <td>0.0</td>\n",
       "      <td>intentional attack</td>\n",
       "      <td>intentional attack</td>\n",
       "      <td>True</td>\n",
       "    </tr>\n",
       "  </tbody>\n",
       "</table>\n",
       "<p>212 rows × 9 columns</p>\n",
       "</div>"
      ],
      "text/plain": [
       "     POSTAL.CODE  ANOMALY.LEVEL  MONTH  OUTAGE.DURATION OUTAGE.START.DATETIME  \\\n",
       "OBS                                                                             \n",
       "993           LA            0.3    6.0           8054.0   2004-06-02 01:46:00   \n",
       "560           MD           -0.1    6.0              0.0   2012-06-06 12:37:00   \n",
       "1395          CT            0.4    6.0           4560.0   2009-06-26 17:00:00   \n",
       "556           MD           -0.5    2.0              1.0   2014-02-05 08:05:00   \n",
       "131           MI           -0.4    7.0           5580.0   2008-07-02 15:00:00   \n",
       "...          ...            ...    ...              ...                   ...   \n",
       "613           PA           -0.6    2.0           5160.0   2009-02-12 08:00:00   \n",
       "903           DE            1.0    6.0           4254.0   2015-06-23 17:06:00   \n",
       "1211          CA            1.2    7.0             44.0   2015-07-27 03:52:00   \n",
       "1452          ME           -1.3   12.0           1676.0   2007-12-01 18:04:00   \n",
       "1411          OK           -0.7    1.0            110.0   2012-01-05 10:35:00   \n",
       "\n",
       "      CUSTOMERS.AFFECTED          prediction                 actual  \\\n",
       "OBS                                                                   \n",
       "993              59057.0      severe weather         severe weather   \n",
       "560                  0.0  intentional attack     intentional attack   \n",
       "1395             50752.0      severe weather         severe weather   \n",
       "556             181000.0      severe weather         severe weather   \n",
       "131             239663.0      severe weather         severe weather   \n",
       "...                  ...                 ...                    ...   \n",
       "613             132000.0      severe weather         severe weather   \n",
       "903              65000.0      severe weather         severe weather   \n",
       "1211               484.0           islanding              islanding   \n",
       "1452                 0.0  intentional attack  fuel supply emergency   \n",
       "1411                 0.0  intentional attack     intentional attack   \n",
       "\n",
       "      Predict_right  \n",
       "OBS                  \n",
       "993            True  \n",
       "560            True  \n",
       "1395           True  \n",
       "556            True  \n",
       "131            True  \n",
       "...             ...  \n",
       "613            True  \n",
       "903            True  \n",
       "1211           True  \n",
       "1452          False  \n",
       "1411           True  \n",
       "\n",
       "[212 rows x 9 columns]"
      ]
     },
     "execution_count": 422,
     "metadata": {},
     "output_type": "execute_result"
    }
   ],
   "source": [
    "# Check if each prediction aligns with the actual value\n",
    "check_diff_class = X_test.assign(prediction = prediction).assign(actual = y_test)\n",
    "check_diff_class['Predict_right'] = check_diff_class['prediction'] == check_diff_class['actual']\n",
    "check_diff_class"
   ]
  },
  {
   "cell_type": "code",
   "execution_count": 423,
   "metadata": {},
   "outputs": [
    {
     "data": {
      "text/plain": [
       "array(['severe weather', 'intentional attack',\n",
       "       'system operability disruption', 'equipment failure',\n",
       "       'public appeal', 'islanding', 'fuel supply emergency'],\n",
       "      dtype=object)"
      ]
     },
     "execution_count": 423,
     "metadata": {},
     "output_type": "execute_result"
    }
   ],
   "source": [
    "check_diff_class['actual'].unique()"
   ]
  },
  {
   "cell_type": "code",
   "execution_count": 424,
   "metadata": {},
   "outputs": [
    {
     "data": {
      "text/html": [
       "<div>\n",
       "<style scoped>\n",
       "    .dataframe tbody tr th:only-of-type {\n",
       "        vertical-align: middle;\n",
       "    }\n",
       "\n",
       "    .dataframe tbody tr th {\n",
       "        vertical-align: top;\n",
       "    }\n",
       "\n",
       "    .dataframe thead th {\n",
       "        text-align: right;\n",
       "    }\n",
       "</style>\n",
       "<table border=\"1\" class=\"dataframe\">\n",
       "  <thead>\n",
       "    <tr style=\"text-align: right;\">\n",
       "      <th></th>\n",
       "      <th>YEAR</th>\n",
       "      <th>MONTH</th>\n",
       "      <th>U.S._STATE</th>\n",
       "      <th>POSTAL.CODE</th>\n",
       "      <th>NERC.REGION</th>\n",
       "      <th>CLIMATE.REGION</th>\n",
       "      <th>ANOMALY.LEVEL</th>\n",
       "      <th>CLIMATE.CATEGORY</th>\n",
       "      <th>OUTAGE.START.DATE</th>\n",
       "      <th>OUTAGE.START.TIME</th>\n",
       "      <th>...</th>\n",
       "      <th>POPDEN_UC</th>\n",
       "      <th>POPDEN_RURAL</th>\n",
       "      <th>AREAPCT_URBAN</th>\n",
       "      <th>AREAPCT_UC</th>\n",
       "      <th>PCT_LAND</th>\n",
       "      <th>PCT_WATER_TOT</th>\n",
       "      <th>PCT_WATER_INLAND</th>\n",
       "      <th>OUTAGE.START.DATETIME</th>\n",
       "      <th>OUTAGE.RESTORATION.DATETIME</th>\n",
       "      <th>IS.HURRICANE</th>\n",
       "    </tr>\n",
       "    <tr>\n",
       "      <th>OBS</th>\n",
       "      <th></th>\n",
       "      <th></th>\n",
       "      <th></th>\n",
       "      <th></th>\n",
       "      <th></th>\n",
       "      <th></th>\n",
       "      <th></th>\n",
       "      <th></th>\n",
       "      <th></th>\n",
       "      <th></th>\n",
       "      <th></th>\n",
       "      <th></th>\n",
       "      <th></th>\n",
       "      <th></th>\n",
       "      <th></th>\n",
       "      <th></th>\n",
       "      <th></th>\n",
       "      <th></th>\n",
       "      <th></th>\n",
       "      <th></th>\n",
       "      <th></th>\n",
       "    </tr>\n",
       "  </thead>\n",
       "  <tbody>\n",
       "    <tr>\n",
       "      <th>1</th>\n",
       "      <td>2011</td>\n",
       "      <td>7.0</td>\n",
       "      <td>Minnesota</td>\n",
       "      <td>MN</td>\n",
       "      <td>MRO</td>\n",
       "      <td>East North Central</td>\n",
       "      <td>-0.3</td>\n",
       "      <td>normal</td>\n",
       "      <td>2011-07-01</td>\n",
       "      <td>17:00:00</td>\n",
       "      <td>...</td>\n",
       "      <td>1700.5</td>\n",
       "      <td>18.2</td>\n",
       "      <td>2.14</td>\n",
       "      <td>0.60</td>\n",
       "      <td>91.592666</td>\n",
       "      <td>8.407334</td>\n",
       "      <td>5.478743</td>\n",
       "      <td>2011-07-01 17:00:00</td>\n",
       "      <td>2011-07-03 20:00:00</td>\n",
       "      <td>False</td>\n",
       "    </tr>\n",
       "    <tr>\n",
       "      <th>2</th>\n",
       "      <td>2014</td>\n",
       "      <td>5.0</td>\n",
       "      <td>Minnesota</td>\n",
       "      <td>MN</td>\n",
       "      <td>MRO</td>\n",
       "      <td>East North Central</td>\n",
       "      <td>-0.1</td>\n",
       "      <td>normal</td>\n",
       "      <td>2014-05-11</td>\n",
       "      <td>18:38:00</td>\n",
       "      <td>...</td>\n",
       "      <td>1700.5</td>\n",
       "      <td>18.2</td>\n",
       "      <td>2.14</td>\n",
       "      <td>0.60</td>\n",
       "      <td>91.592666</td>\n",
       "      <td>8.407334</td>\n",
       "      <td>5.478743</td>\n",
       "      <td>2014-05-11 18:38:00</td>\n",
       "      <td>2014-05-11 18:39:00</td>\n",
       "      <td>False</td>\n",
       "    </tr>\n",
       "    <tr>\n",
       "      <th>3</th>\n",
       "      <td>2010</td>\n",
       "      <td>10.0</td>\n",
       "      <td>Minnesota</td>\n",
       "      <td>MN</td>\n",
       "      <td>MRO</td>\n",
       "      <td>East North Central</td>\n",
       "      <td>-1.5</td>\n",
       "      <td>cold</td>\n",
       "      <td>2010-10-26</td>\n",
       "      <td>20:00:00</td>\n",
       "      <td>...</td>\n",
       "      <td>1700.5</td>\n",
       "      <td>18.2</td>\n",
       "      <td>2.14</td>\n",
       "      <td>0.60</td>\n",
       "      <td>91.592666</td>\n",
       "      <td>8.407334</td>\n",
       "      <td>5.478743</td>\n",
       "      <td>2010-10-26 20:00:00</td>\n",
       "      <td>2010-10-28 22:00:00</td>\n",
       "      <td>False</td>\n",
       "    </tr>\n",
       "    <tr>\n",
       "      <th>4</th>\n",
       "      <td>2012</td>\n",
       "      <td>6.0</td>\n",
       "      <td>Minnesota</td>\n",
       "      <td>MN</td>\n",
       "      <td>MRO</td>\n",
       "      <td>East North Central</td>\n",
       "      <td>-0.1</td>\n",
       "      <td>normal</td>\n",
       "      <td>2012-06-19</td>\n",
       "      <td>04:30:00</td>\n",
       "      <td>...</td>\n",
       "      <td>1700.5</td>\n",
       "      <td>18.2</td>\n",
       "      <td>2.14</td>\n",
       "      <td>0.60</td>\n",
       "      <td>91.592666</td>\n",
       "      <td>8.407334</td>\n",
       "      <td>5.478743</td>\n",
       "      <td>2012-06-19 04:30:00</td>\n",
       "      <td>2012-06-20 23:00:00</td>\n",
       "      <td>False</td>\n",
       "    </tr>\n",
       "    <tr>\n",
       "      <th>5</th>\n",
       "      <td>2015</td>\n",
       "      <td>7.0</td>\n",
       "      <td>Minnesota</td>\n",
       "      <td>MN</td>\n",
       "      <td>MRO</td>\n",
       "      <td>East North Central</td>\n",
       "      <td>1.2</td>\n",
       "      <td>warm</td>\n",
       "      <td>2015-07-18</td>\n",
       "      <td>02:00:00</td>\n",
       "      <td>...</td>\n",
       "      <td>1700.5</td>\n",
       "      <td>18.2</td>\n",
       "      <td>2.14</td>\n",
       "      <td>0.60</td>\n",
       "      <td>91.592666</td>\n",
       "      <td>8.407334</td>\n",
       "      <td>5.478743</td>\n",
       "      <td>2015-07-18 02:00:00</td>\n",
       "      <td>2015-07-19 07:00:00</td>\n",
       "      <td>False</td>\n",
       "    </tr>\n",
       "    <tr>\n",
       "      <th>...</th>\n",
       "      <td>...</td>\n",
       "      <td>...</td>\n",
       "      <td>...</td>\n",
       "      <td>...</td>\n",
       "      <td>...</td>\n",
       "      <td>...</td>\n",
       "      <td>...</td>\n",
       "      <td>...</td>\n",
       "      <td>...</td>\n",
       "      <td>...</td>\n",
       "      <td>...</td>\n",
       "      <td>...</td>\n",
       "      <td>...</td>\n",
       "      <td>...</td>\n",
       "      <td>...</td>\n",
       "      <td>...</td>\n",
       "      <td>...</td>\n",
       "      <td>...</td>\n",
       "      <td>...</td>\n",
       "      <td>...</td>\n",
       "      <td>...</td>\n",
       "    </tr>\n",
       "    <tr>\n",
       "      <th>1530</th>\n",
       "      <td>2011</td>\n",
       "      <td>12.0</td>\n",
       "      <td>North Dakota</td>\n",
       "      <td>ND</td>\n",
       "      <td>MRO</td>\n",
       "      <td>West North Central</td>\n",
       "      <td>-0.9</td>\n",
       "      <td>cold</td>\n",
       "      <td>2011-12-06</td>\n",
       "      <td>08:00:00</td>\n",
       "      <td>...</td>\n",
       "      <td>1868.2</td>\n",
       "      <td>3.9</td>\n",
       "      <td>0.27</td>\n",
       "      <td>0.10</td>\n",
       "      <td>97.599649</td>\n",
       "      <td>2.401765</td>\n",
       "      <td>2.401765</td>\n",
       "      <td>2011-12-06 08:00:00</td>\n",
       "      <td>2011-12-06 20:00:00</td>\n",
       "      <td>False</td>\n",
       "    </tr>\n",
       "    <tr>\n",
       "      <th>1531</th>\n",
       "      <td>2006</td>\n",
       "      <td>NaN</td>\n",
       "      <td>North Dakota</td>\n",
       "      <td>ND</td>\n",
       "      <td>MRO</td>\n",
       "      <td>West North Central</td>\n",
       "      <td>0.0</td>\n",
       "      <td>NaN</td>\n",
       "      <td>NaT</td>\n",
       "      <td>NaN</td>\n",
       "      <td>...</td>\n",
       "      <td>1868.2</td>\n",
       "      <td>3.9</td>\n",
       "      <td>0.27</td>\n",
       "      <td>0.10</td>\n",
       "      <td>97.599649</td>\n",
       "      <td>2.401765</td>\n",
       "      <td>2.401765</td>\n",
       "      <td>NaT</td>\n",
       "      <td>NaT</td>\n",
       "      <td>False</td>\n",
       "    </tr>\n",
       "    <tr>\n",
       "      <th>1532</th>\n",
       "      <td>2009</td>\n",
       "      <td>8.0</td>\n",
       "      <td>South Dakota</td>\n",
       "      <td>SD</td>\n",
       "      <td>RFC</td>\n",
       "      <td>West North Central</td>\n",
       "      <td>0.5</td>\n",
       "      <td>warm</td>\n",
       "      <td>2009-08-29</td>\n",
       "      <td>22:54:00</td>\n",
       "      <td>...</td>\n",
       "      <td>1905.4</td>\n",
       "      <td>4.7</td>\n",
       "      <td>0.30</td>\n",
       "      <td>0.15</td>\n",
       "      <td>98.307744</td>\n",
       "      <td>1.692256</td>\n",
       "      <td>1.692256</td>\n",
       "      <td>2009-08-29 22:54:00</td>\n",
       "      <td>2009-08-29 23:53:00</td>\n",
       "      <td>False</td>\n",
       "    </tr>\n",
       "    <tr>\n",
       "      <th>1533</th>\n",
       "      <td>2009</td>\n",
       "      <td>8.0</td>\n",
       "      <td>South Dakota</td>\n",
       "      <td>SD</td>\n",
       "      <td>MRO</td>\n",
       "      <td>West North Central</td>\n",
       "      <td>0.5</td>\n",
       "      <td>warm</td>\n",
       "      <td>2009-08-29</td>\n",
       "      <td>11:00:00</td>\n",
       "      <td>...</td>\n",
       "      <td>1905.4</td>\n",
       "      <td>4.7</td>\n",
       "      <td>0.30</td>\n",
       "      <td>0.15</td>\n",
       "      <td>98.307744</td>\n",
       "      <td>1.692256</td>\n",
       "      <td>1.692256</td>\n",
       "      <td>2009-08-29 11:00:00</td>\n",
       "      <td>2009-08-29 14:01:00</td>\n",
       "      <td>False</td>\n",
       "    </tr>\n",
       "    <tr>\n",
       "      <th>1534</th>\n",
       "      <td>2000</td>\n",
       "      <td>NaN</td>\n",
       "      <td>Alaska</td>\n",
       "      <td>AK</td>\n",
       "      <td>ASCC</td>\n",
       "      <td>NaN</td>\n",
       "      <td>0.0</td>\n",
       "      <td>NaN</td>\n",
       "      <td>NaT</td>\n",
       "      <td>NaN</td>\n",
       "      <td>...</td>\n",
       "      <td>1276.0</td>\n",
       "      <td>0.4</td>\n",
       "      <td>0.05</td>\n",
       "      <td>0.02</td>\n",
       "      <td>85.761154</td>\n",
       "      <td>14.238846</td>\n",
       "      <td>2.901182</td>\n",
       "      <td>NaT</td>\n",
       "      <td>NaT</td>\n",
       "      <td>False</td>\n",
       "    </tr>\n",
       "  </tbody>\n",
       "</table>\n",
       "<p>1534 rows × 58 columns</p>\n",
       "</div>"
      ],
      "text/plain": [
       "      YEAR  MONTH    U.S._STATE POSTAL.CODE NERC.REGION      CLIMATE.REGION  \\\n",
       "OBS                                                                           \n",
       "1     2011    7.0     Minnesota          MN         MRO  East North Central   \n",
       "2     2014    5.0     Minnesota          MN         MRO  East North Central   \n",
       "3     2010   10.0     Minnesota          MN         MRO  East North Central   \n",
       "4     2012    6.0     Minnesota          MN         MRO  East North Central   \n",
       "5     2015    7.0     Minnesota          MN         MRO  East North Central   \n",
       "...    ...    ...           ...         ...         ...                 ...   \n",
       "1530  2011   12.0  North Dakota          ND         MRO  West North Central   \n",
       "1531  2006    NaN  North Dakota          ND         MRO  West North Central   \n",
       "1532  2009    8.0  South Dakota          SD         RFC  West North Central   \n",
       "1533  2009    8.0  South Dakota          SD         MRO  West North Central   \n",
       "1534  2000    NaN        Alaska          AK        ASCC                 NaN   \n",
       "\n",
       "      ANOMALY.LEVEL CLIMATE.CATEGORY OUTAGE.START.DATE OUTAGE.START.TIME  ...  \\\n",
       "OBS                                                                       ...   \n",
       "1              -0.3           normal        2011-07-01          17:00:00  ...   \n",
       "2              -0.1           normal        2014-05-11          18:38:00  ...   \n",
       "3              -1.5             cold        2010-10-26          20:00:00  ...   \n",
       "4              -0.1           normal        2012-06-19          04:30:00  ...   \n",
       "5               1.2             warm        2015-07-18          02:00:00  ...   \n",
       "...             ...              ...               ...               ...  ...   \n",
       "1530           -0.9             cold        2011-12-06          08:00:00  ...   \n",
       "1531            0.0              NaN               NaT               NaN  ...   \n",
       "1532            0.5             warm        2009-08-29          22:54:00  ...   \n",
       "1533            0.5             warm        2009-08-29          11:00:00  ...   \n",
       "1534            0.0              NaN               NaT               NaN  ...   \n",
       "\n",
       "     POPDEN_UC POPDEN_RURAL AREAPCT_URBAN AREAPCT_UC   PCT_LAND  \\\n",
       "OBS                                                               \n",
       "1       1700.5         18.2          2.14       0.60  91.592666   \n",
       "2       1700.5         18.2          2.14       0.60  91.592666   \n",
       "3       1700.5         18.2          2.14       0.60  91.592666   \n",
       "4       1700.5         18.2          2.14       0.60  91.592666   \n",
       "5       1700.5         18.2          2.14       0.60  91.592666   \n",
       "...        ...          ...           ...        ...        ...   \n",
       "1530    1868.2          3.9          0.27       0.10  97.599649   \n",
       "1531    1868.2          3.9          0.27       0.10  97.599649   \n",
       "1532    1905.4          4.7          0.30       0.15  98.307744   \n",
       "1533    1905.4          4.7          0.30       0.15  98.307744   \n",
       "1534    1276.0          0.4          0.05       0.02  85.761154   \n",
       "\n",
       "      PCT_WATER_TOT  PCT_WATER_INLAND  OUTAGE.START.DATETIME  \\\n",
       "OBS                                                            \n",
       "1          8.407334          5.478743    2011-07-01 17:00:00   \n",
       "2          8.407334          5.478743    2014-05-11 18:38:00   \n",
       "3          8.407334          5.478743    2010-10-26 20:00:00   \n",
       "4          8.407334          5.478743    2012-06-19 04:30:00   \n",
       "5          8.407334          5.478743    2015-07-18 02:00:00   \n",
       "...             ...               ...                    ...   \n",
       "1530       2.401765          2.401765    2011-12-06 08:00:00   \n",
       "1531       2.401765          2.401765                    NaT   \n",
       "1532       1.692256          1.692256    2009-08-29 22:54:00   \n",
       "1533       1.692256          1.692256    2009-08-29 11:00:00   \n",
       "1534      14.238846          2.901182                    NaT   \n",
       "\n",
       "      OUTAGE.RESTORATION.DATETIME  IS.HURRICANE  \n",
       "OBS                                              \n",
       "1             2011-07-03 20:00:00         False  \n",
       "2             2014-05-11 18:39:00         False  \n",
       "3             2010-10-28 22:00:00         False  \n",
       "4             2012-06-20 23:00:00         False  \n",
       "5             2015-07-19 07:00:00         False  \n",
       "...                           ...           ...  \n",
       "1530          2011-12-06 20:00:00         False  \n",
       "1531                          NaT         False  \n",
       "1532          2009-08-29 23:53:00         False  \n",
       "1533          2009-08-29 14:01:00         False  \n",
       "1534                          NaT         False  \n",
       "\n",
       "[1534 rows x 58 columns]"
      ]
     },
     "execution_count": 424,
     "metadata": {},
     "output_type": "execute_result"
    }
   ],
   "source": [
    "data"
   ]
  },
  {
   "cell_type": "code",
   "execution_count": 425,
   "metadata": {},
   "outputs": [
    {
     "data": {
      "application/vnd.plotly.v1+json": {
       "config": {
        "plotlyServerURL": "https://plot.ly"
       },
       "data": [
        {
         "alignmentgroup": "True",
         "hovertemplate": "Postal Code=%{x}<br>Accuracy=%{y}<extra></extra>",
         "legendgroup": "",
         "marker": {
          "color": "rgb(0,0,140)",
          "pattern": {
           "shape": ""
          }
         },
         "name": "",
         "offsetgroup": "",
         "orientation": "v",
         "showlegend": false,
         "textposition": "auto",
         "type": "bar",
         "x": [
          "severe weather",
          "intentional attack",
          "islanding",
          "system operability disruption",
          "public appeal",
          "equipment failure",
          "fuel supply emergency"
         ],
         "xaxis": "x",
         "y": [
          1,
          0.975609756097561,
          0.8571428571428571,
          0.47368421052631576,
          0.2,
          0,
          0
         ],
         "yaxis": "y"
        }
       ],
       "layout": {
        "barmode": "relative",
        "legend": {
         "tracegroupgap": 0
        },
        "template": {
         "data": {
          "bar": [
           {
            "error_x": {
             "color": "#2a3f5f"
            },
            "error_y": {
             "color": "#2a3f5f"
            },
            "marker": {
             "line": {
              "color": "#E5ECF6",
              "width": 0.5
             },
             "pattern": {
              "fillmode": "overlay",
              "size": 10,
              "solidity": 0.2
             }
            },
            "type": "bar"
           }
          ],
          "barpolar": [
           {
            "marker": {
             "line": {
              "color": "#E5ECF6",
              "width": 0.5
             },
             "pattern": {
              "fillmode": "overlay",
              "size": 10,
              "solidity": 0.2
             }
            },
            "type": "barpolar"
           }
          ],
          "carpet": [
           {
            "aaxis": {
             "endlinecolor": "#2a3f5f",
             "gridcolor": "white",
             "linecolor": "white",
             "minorgridcolor": "white",
             "startlinecolor": "#2a3f5f"
            },
            "baxis": {
             "endlinecolor": "#2a3f5f",
             "gridcolor": "white",
             "linecolor": "white",
             "minorgridcolor": "white",
             "startlinecolor": "#2a3f5f"
            },
            "type": "carpet"
           }
          ],
          "choropleth": [
           {
            "colorbar": {
             "outlinewidth": 0,
             "ticks": ""
            },
            "type": "choropleth"
           }
          ],
          "contour": [
           {
            "colorbar": {
             "outlinewidth": 0,
             "ticks": ""
            },
            "colorscale": [
             [
              0,
              "#0d0887"
             ],
             [
              0.1111111111111111,
              "#46039f"
             ],
             [
              0.2222222222222222,
              "#7201a8"
             ],
             [
              0.3333333333333333,
              "#9c179e"
             ],
             [
              0.4444444444444444,
              "#bd3786"
             ],
             [
              0.5555555555555556,
              "#d8576b"
             ],
             [
              0.6666666666666666,
              "#ed7953"
             ],
             [
              0.7777777777777778,
              "#fb9f3a"
             ],
             [
              0.8888888888888888,
              "#fdca26"
             ],
             [
              1,
              "#f0f921"
             ]
            ],
            "type": "contour"
           }
          ],
          "contourcarpet": [
           {
            "colorbar": {
             "outlinewidth": 0,
             "ticks": ""
            },
            "type": "contourcarpet"
           }
          ],
          "heatmap": [
           {
            "colorbar": {
             "outlinewidth": 0,
             "ticks": ""
            },
            "colorscale": [
             [
              0,
              "#0d0887"
             ],
             [
              0.1111111111111111,
              "#46039f"
             ],
             [
              0.2222222222222222,
              "#7201a8"
             ],
             [
              0.3333333333333333,
              "#9c179e"
             ],
             [
              0.4444444444444444,
              "#bd3786"
             ],
             [
              0.5555555555555556,
              "#d8576b"
             ],
             [
              0.6666666666666666,
              "#ed7953"
             ],
             [
              0.7777777777777778,
              "#fb9f3a"
             ],
             [
              0.8888888888888888,
              "#fdca26"
             ],
             [
              1,
              "#f0f921"
             ]
            ],
            "type": "heatmap"
           }
          ],
          "heatmapgl": [
           {
            "colorbar": {
             "outlinewidth": 0,
             "ticks": ""
            },
            "colorscale": [
             [
              0,
              "#0d0887"
             ],
             [
              0.1111111111111111,
              "#46039f"
             ],
             [
              0.2222222222222222,
              "#7201a8"
             ],
             [
              0.3333333333333333,
              "#9c179e"
             ],
             [
              0.4444444444444444,
              "#bd3786"
             ],
             [
              0.5555555555555556,
              "#d8576b"
             ],
             [
              0.6666666666666666,
              "#ed7953"
             ],
             [
              0.7777777777777778,
              "#fb9f3a"
             ],
             [
              0.8888888888888888,
              "#fdca26"
             ],
             [
              1,
              "#f0f921"
             ]
            ],
            "type": "heatmapgl"
           }
          ],
          "histogram": [
           {
            "marker": {
             "pattern": {
              "fillmode": "overlay",
              "size": 10,
              "solidity": 0.2
             }
            },
            "type": "histogram"
           }
          ],
          "histogram2d": [
           {
            "colorbar": {
             "outlinewidth": 0,
             "ticks": ""
            },
            "colorscale": [
             [
              0,
              "#0d0887"
             ],
             [
              0.1111111111111111,
              "#46039f"
             ],
             [
              0.2222222222222222,
              "#7201a8"
             ],
             [
              0.3333333333333333,
              "#9c179e"
             ],
             [
              0.4444444444444444,
              "#bd3786"
             ],
             [
              0.5555555555555556,
              "#d8576b"
             ],
             [
              0.6666666666666666,
              "#ed7953"
             ],
             [
              0.7777777777777778,
              "#fb9f3a"
             ],
             [
              0.8888888888888888,
              "#fdca26"
             ],
             [
              1,
              "#f0f921"
             ]
            ],
            "type": "histogram2d"
           }
          ],
          "histogram2dcontour": [
           {
            "colorbar": {
             "outlinewidth": 0,
             "ticks": ""
            },
            "colorscale": [
             [
              0,
              "#0d0887"
             ],
             [
              0.1111111111111111,
              "#46039f"
             ],
             [
              0.2222222222222222,
              "#7201a8"
             ],
             [
              0.3333333333333333,
              "#9c179e"
             ],
             [
              0.4444444444444444,
              "#bd3786"
             ],
             [
              0.5555555555555556,
              "#d8576b"
             ],
             [
              0.6666666666666666,
              "#ed7953"
             ],
             [
              0.7777777777777778,
              "#fb9f3a"
             ],
             [
              0.8888888888888888,
              "#fdca26"
             ],
             [
              1,
              "#f0f921"
             ]
            ],
            "type": "histogram2dcontour"
           }
          ],
          "mesh3d": [
           {
            "colorbar": {
             "outlinewidth": 0,
             "ticks": ""
            },
            "type": "mesh3d"
           }
          ],
          "parcoords": [
           {
            "line": {
             "colorbar": {
              "outlinewidth": 0,
              "ticks": ""
             }
            },
            "type": "parcoords"
           }
          ],
          "pie": [
           {
            "automargin": true,
            "type": "pie"
           }
          ],
          "scatter": [
           {
            "fillpattern": {
             "fillmode": "overlay",
             "size": 10,
             "solidity": 0.2
            },
            "type": "scatter"
           }
          ],
          "scatter3d": [
           {
            "line": {
             "colorbar": {
              "outlinewidth": 0,
              "ticks": ""
             }
            },
            "marker": {
             "colorbar": {
              "outlinewidth": 0,
              "ticks": ""
             }
            },
            "type": "scatter3d"
           }
          ],
          "scattercarpet": [
           {
            "marker": {
             "colorbar": {
              "outlinewidth": 0,
              "ticks": ""
             }
            },
            "type": "scattercarpet"
           }
          ],
          "scattergeo": [
           {
            "marker": {
             "colorbar": {
              "outlinewidth": 0,
              "ticks": ""
             }
            },
            "type": "scattergeo"
           }
          ],
          "scattergl": [
           {
            "marker": {
             "colorbar": {
              "outlinewidth": 0,
              "ticks": ""
             }
            },
            "type": "scattergl"
           }
          ],
          "scattermapbox": [
           {
            "marker": {
             "colorbar": {
              "outlinewidth": 0,
              "ticks": ""
             }
            },
            "type": "scattermapbox"
           }
          ],
          "scatterpolar": [
           {
            "marker": {
             "colorbar": {
              "outlinewidth": 0,
              "ticks": ""
             }
            },
            "type": "scatterpolar"
           }
          ],
          "scatterpolargl": [
           {
            "marker": {
             "colorbar": {
              "outlinewidth": 0,
              "ticks": ""
             }
            },
            "type": "scatterpolargl"
           }
          ],
          "scatterternary": [
           {
            "marker": {
             "colorbar": {
              "outlinewidth": 0,
              "ticks": ""
             }
            },
            "type": "scatterternary"
           }
          ],
          "surface": [
           {
            "colorbar": {
             "outlinewidth": 0,
             "ticks": ""
            },
            "colorscale": [
             [
              0,
              "#0d0887"
             ],
             [
              0.1111111111111111,
              "#46039f"
             ],
             [
              0.2222222222222222,
              "#7201a8"
             ],
             [
              0.3333333333333333,
              "#9c179e"
             ],
             [
              0.4444444444444444,
              "#bd3786"
             ],
             [
              0.5555555555555556,
              "#d8576b"
             ],
             [
              0.6666666666666666,
              "#ed7953"
             ],
             [
              0.7777777777777778,
              "#fb9f3a"
             ],
             [
              0.8888888888888888,
              "#fdca26"
             ],
             [
              1,
              "#f0f921"
             ]
            ],
            "type": "surface"
           }
          ],
          "table": [
           {
            "cells": {
             "fill": {
              "color": "#EBF0F8"
             },
             "line": {
              "color": "white"
             }
            },
            "header": {
             "fill": {
              "color": "#C8D4E3"
             },
             "line": {
              "color": "white"
             }
            },
            "type": "table"
           }
          ]
         },
         "layout": {
          "annotationdefaults": {
           "arrowcolor": "#2a3f5f",
           "arrowhead": 0,
           "arrowwidth": 1
          },
          "autotypenumbers": "strict",
          "coloraxis": {
           "colorbar": {
            "outlinewidth": 0,
            "ticks": ""
           }
          },
          "colorscale": {
           "diverging": [
            [
             0,
             "#8e0152"
            ],
            [
             0.1,
             "#c51b7d"
            ],
            [
             0.2,
             "#de77ae"
            ],
            [
             0.3,
             "#f1b6da"
            ],
            [
             0.4,
             "#fde0ef"
            ],
            [
             0.5,
             "#f7f7f7"
            ],
            [
             0.6,
             "#e6f5d0"
            ],
            [
             0.7,
             "#b8e186"
            ],
            [
             0.8,
             "#7fbc41"
            ],
            [
             0.9,
             "#4d9221"
            ],
            [
             1,
             "#276419"
            ]
           ],
           "sequential": [
            [
             0,
             "#0d0887"
            ],
            [
             0.1111111111111111,
             "#46039f"
            ],
            [
             0.2222222222222222,
             "#7201a8"
            ],
            [
             0.3333333333333333,
             "#9c179e"
            ],
            [
             0.4444444444444444,
             "#bd3786"
            ],
            [
             0.5555555555555556,
             "#d8576b"
            ],
            [
             0.6666666666666666,
             "#ed7953"
            ],
            [
             0.7777777777777778,
             "#fb9f3a"
            ],
            [
             0.8888888888888888,
             "#fdca26"
            ],
            [
             1,
             "#f0f921"
            ]
           ],
           "sequentialminus": [
            [
             0,
             "#0d0887"
            ],
            [
             0.1111111111111111,
             "#46039f"
            ],
            [
             0.2222222222222222,
             "#7201a8"
            ],
            [
             0.3333333333333333,
             "#9c179e"
            ],
            [
             0.4444444444444444,
             "#bd3786"
            ],
            [
             0.5555555555555556,
             "#d8576b"
            ],
            [
             0.6666666666666666,
             "#ed7953"
            ],
            [
             0.7777777777777778,
             "#fb9f3a"
            ],
            [
             0.8888888888888888,
             "#fdca26"
            ],
            [
             1,
             "#f0f921"
            ]
           ]
          },
          "colorway": [
           "#636efa",
           "#EF553B",
           "#00cc96",
           "#ab63fa",
           "#FFA15A",
           "#19d3f3",
           "#FF6692",
           "#B6E880",
           "#FF97FF",
           "#FECB52"
          ],
          "font": {
           "color": "#2a3f5f"
          },
          "geo": {
           "bgcolor": "white",
           "lakecolor": "white",
           "landcolor": "#E5ECF6",
           "showlakes": true,
           "showland": true,
           "subunitcolor": "white"
          },
          "hoverlabel": {
           "align": "left"
          },
          "hovermode": "closest",
          "mapbox": {
           "style": "light"
          },
          "paper_bgcolor": "white",
          "plot_bgcolor": "#E5ECF6",
          "polar": {
           "angularaxis": {
            "gridcolor": "white",
            "linecolor": "white",
            "ticks": ""
           },
           "bgcolor": "#E5ECF6",
           "radialaxis": {
            "gridcolor": "white",
            "linecolor": "white",
            "ticks": ""
           }
          },
          "scene": {
           "xaxis": {
            "backgroundcolor": "#E5ECF6",
            "gridcolor": "white",
            "gridwidth": 2,
            "linecolor": "white",
            "showbackground": true,
            "ticks": "",
            "zerolinecolor": "white"
           },
           "yaxis": {
            "backgroundcolor": "#E5ECF6",
            "gridcolor": "white",
            "gridwidth": 2,
            "linecolor": "white",
            "showbackground": true,
            "ticks": "",
            "zerolinecolor": "white"
           },
           "zaxis": {
            "backgroundcolor": "#E5ECF6",
            "gridcolor": "white",
            "gridwidth": 2,
            "linecolor": "white",
            "showbackground": true,
            "ticks": "",
            "zerolinecolor": "white"
           }
          },
          "shapedefaults": {
           "line": {
            "color": "#2a3f5f"
           }
          },
          "ternary": {
           "aaxis": {
            "gridcolor": "white",
            "linecolor": "white",
            "ticks": ""
           },
           "baxis": {
            "gridcolor": "white",
            "linecolor": "white",
            "ticks": ""
           },
           "bgcolor": "#E5ECF6",
           "caxis": {
            "gridcolor": "white",
            "linecolor": "white",
            "ticks": ""
           }
          },
          "title": {
           "x": 0.05
          },
          "xaxis": {
           "automargin": true,
           "gridcolor": "white",
           "linecolor": "white",
           "ticks": "",
           "title": {
            "standoff": 15
           },
           "zerolinecolor": "white",
           "zerolinewidth": 2
          },
          "yaxis": {
           "automargin": true,
           "gridcolor": "white",
           "linecolor": "white",
           "ticks": "",
           "title": {
            "standoff": 15
           },
           "zerolinecolor": "white",
           "zerolinewidth": 2
          }
         }
        },
        "title": {
         "text": "Accuracy by Postal Code Groups"
        },
        "xaxis": {
         "anchor": "y",
         "domain": [
          0,
          1
         ],
         "tickangle": 45,
         "title": {
          "text": "Postal Code"
         }
        },
        "yaxis": {
         "anchor": "x",
         "domain": [
          0,
          1
         ],
         "title": {
          "text": "Accuracy"
         }
        }
       }
      }
     },
     "metadata": {},
     "output_type": "display_data"
    }
   ],
   "source": [
    "# Imports for a confusion matrix\n",
    "from sklearn.metrics import confusion_matrix\n",
    "import seaborn as sns\n",
    "import matplotlib.pyplot as plt\n",
    "import plotly\n",
    "#Find the accuracy by group\n",
    "group_accuracies = check_diff_class[['prediction', 'actual', 'Predict_right']].groupby('actual')['Predict_right'].mean().sort_values(ascending=False)\n",
    "\n",
    "# Plotting the accuracy for each group as a bar plot\n",
    "fig = px.bar(x=group_accuracies.index, y=group_accuracies.values,\n",
    "             labels={'x': 'Postal Code', 'y': 'Accuracy'},\n",
    "             title='Accuracy by Postal Code Groups')\n",
    "\n",
    "fig.update_traces(marker_color='rgb(0,0,140)')  # Change bar color if desired\n",
    "fig.update_xaxes(tickangle=45)\n",
    "fig.show()"
   ]
  },
  {
   "cell_type": "code",
   "execution_count": 426,
   "metadata": {},
   "outputs": [],
   "source": [
    "#fig.write_html('accuracy_bar.html', include_plotlyjs='cdn')"
   ]
  },
  {
   "cell_type": "code",
   "execution_count": 427,
   "metadata": {},
   "outputs": [
    {
     "data": {
      "application/vnd.plotly.v1+json": {
       "config": {
        "plotlyServerURL": "https://plot.ly"
       },
       "data": [
        {
         "colorscale": [
          [
           0,
           "rgb(247,251,255)"
          ],
          [
           0.125,
           "rgb(222,235,247)"
          ],
          [
           0.25,
           "rgb(198,219,239)"
          ],
          [
           0.375,
           "rgb(158,202,225)"
          ],
          [
           0.5,
           "rgb(107,174,214)"
          ],
          [
           0.625,
           "rgb(66,146,198)"
          ],
          [
           0.75,
           "rgb(33,113,181)"
          ],
          [
           0.875,
           "rgb(8,81,156)"
          ],
          [
           1,
           "rgb(8,48,107)"
          ]
         ],
         "reversescale": false,
         "showscale": false,
         "type": "heatmap",
         "x": [
          "equipment failure",
          "fuel supply emergency",
          "intentional attack",
          "islanding",
          "public appeal",
          "severe weather",
          "system operability disruption"
         ],
         "y": [
          "system operability disruption",
          "severe weather",
          "public appeal",
          "islanding",
          "intentional attack",
          "fuel supply emergency",
          "equipment failure"
         ],
         "z": [
          [
           0,
           0,
           1,
           0,
           0,
           9,
           9
          ],
          [
           0,
           0,
           0,
           0,
           0,
           133,
           0
          ],
          [
           0,
           0,
           0,
           0,
           1,
           4,
           0
          ],
          [
           0,
           0,
           0,
           6,
           0,
           1,
           0
          ],
          [
           0,
           0,
           40,
           0,
           0,
           1,
           0
          ],
          [
           0,
           0,
           1,
           0,
           0,
           0,
           0
          ],
          [
           0,
           0,
           0,
           0,
           0,
           5,
           1
          ]
         ]
        }
       ],
       "layout": {
        "annotations": [
         {
          "font": {
           "color": "#000000"
          },
          "showarrow": false,
          "text": "0",
          "x": "equipment failure",
          "xref": "x",
          "y": "system operability disruption",
          "yref": "y"
         },
         {
          "font": {
           "color": "#000000"
          },
          "showarrow": false,
          "text": "0",
          "x": "fuel supply emergency",
          "xref": "x",
          "y": "system operability disruption",
          "yref": "y"
         },
         {
          "font": {
           "color": "#000000"
          },
          "showarrow": false,
          "text": "1",
          "x": "intentional attack",
          "xref": "x",
          "y": "system operability disruption",
          "yref": "y"
         },
         {
          "font": {
           "color": "#000000"
          },
          "showarrow": false,
          "text": "0",
          "x": "islanding",
          "xref": "x",
          "y": "system operability disruption",
          "yref": "y"
         },
         {
          "font": {
           "color": "#000000"
          },
          "showarrow": false,
          "text": "0",
          "x": "public appeal",
          "xref": "x",
          "y": "system operability disruption",
          "yref": "y"
         },
         {
          "font": {
           "color": "#000000"
          },
          "showarrow": false,
          "text": "9",
          "x": "severe weather",
          "xref": "x",
          "y": "system operability disruption",
          "yref": "y"
         },
         {
          "font": {
           "color": "#000000"
          },
          "showarrow": false,
          "text": "9",
          "x": "system operability disruption",
          "xref": "x",
          "y": "system operability disruption",
          "yref": "y"
         },
         {
          "font": {
           "color": "#000000"
          },
          "showarrow": false,
          "text": "0",
          "x": "equipment failure",
          "xref": "x",
          "y": "severe weather",
          "yref": "y"
         },
         {
          "font": {
           "color": "#000000"
          },
          "showarrow": false,
          "text": "0",
          "x": "fuel supply emergency",
          "xref": "x",
          "y": "severe weather",
          "yref": "y"
         },
         {
          "font": {
           "color": "#000000"
          },
          "showarrow": false,
          "text": "0",
          "x": "intentional attack",
          "xref": "x",
          "y": "severe weather",
          "yref": "y"
         },
         {
          "font": {
           "color": "#000000"
          },
          "showarrow": false,
          "text": "0",
          "x": "islanding",
          "xref": "x",
          "y": "severe weather",
          "yref": "y"
         },
         {
          "font": {
           "color": "#000000"
          },
          "showarrow": false,
          "text": "0",
          "x": "public appeal",
          "xref": "x",
          "y": "severe weather",
          "yref": "y"
         },
         {
          "font": {
           "color": "#FFFFFF"
          },
          "showarrow": false,
          "text": "133",
          "x": "severe weather",
          "xref": "x",
          "y": "severe weather",
          "yref": "y"
         },
         {
          "font": {
           "color": "#000000"
          },
          "showarrow": false,
          "text": "0",
          "x": "system operability disruption",
          "xref": "x",
          "y": "severe weather",
          "yref": "y"
         },
         {
          "font": {
           "color": "#000000"
          },
          "showarrow": false,
          "text": "0",
          "x": "equipment failure",
          "xref": "x",
          "y": "public appeal",
          "yref": "y"
         },
         {
          "font": {
           "color": "#000000"
          },
          "showarrow": false,
          "text": "0",
          "x": "fuel supply emergency",
          "xref": "x",
          "y": "public appeal",
          "yref": "y"
         },
         {
          "font": {
           "color": "#000000"
          },
          "showarrow": false,
          "text": "0",
          "x": "intentional attack",
          "xref": "x",
          "y": "public appeal",
          "yref": "y"
         },
         {
          "font": {
           "color": "#000000"
          },
          "showarrow": false,
          "text": "0",
          "x": "islanding",
          "xref": "x",
          "y": "public appeal",
          "yref": "y"
         },
         {
          "font": {
           "color": "#000000"
          },
          "showarrow": false,
          "text": "1",
          "x": "public appeal",
          "xref": "x",
          "y": "public appeal",
          "yref": "y"
         },
         {
          "font": {
           "color": "#000000"
          },
          "showarrow": false,
          "text": "4",
          "x": "severe weather",
          "xref": "x",
          "y": "public appeal",
          "yref": "y"
         },
         {
          "font": {
           "color": "#000000"
          },
          "showarrow": false,
          "text": "0",
          "x": "system operability disruption",
          "xref": "x",
          "y": "public appeal",
          "yref": "y"
         },
         {
          "font": {
           "color": "#000000"
          },
          "showarrow": false,
          "text": "0",
          "x": "equipment failure",
          "xref": "x",
          "y": "islanding",
          "yref": "y"
         },
         {
          "font": {
           "color": "#000000"
          },
          "showarrow": false,
          "text": "0",
          "x": "fuel supply emergency",
          "xref": "x",
          "y": "islanding",
          "yref": "y"
         },
         {
          "font": {
           "color": "#000000"
          },
          "showarrow": false,
          "text": "0",
          "x": "intentional attack",
          "xref": "x",
          "y": "islanding",
          "yref": "y"
         },
         {
          "font": {
           "color": "#000000"
          },
          "showarrow": false,
          "text": "6",
          "x": "islanding",
          "xref": "x",
          "y": "islanding",
          "yref": "y"
         },
         {
          "font": {
           "color": "#000000"
          },
          "showarrow": false,
          "text": "0",
          "x": "public appeal",
          "xref": "x",
          "y": "islanding",
          "yref": "y"
         },
         {
          "font": {
           "color": "#000000"
          },
          "showarrow": false,
          "text": "1",
          "x": "severe weather",
          "xref": "x",
          "y": "islanding",
          "yref": "y"
         },
         {
          "font": {
           "color": "#000000"
          },
          "showarrow": false,
          "text": "0",
          "x": "system operability disruption",
          "xref": "x",
          "y": "islanding",
          "yref": "y"
         },
         {
          "font": {
           "color": "#000000"
          },
          "showarrow": false,
          "text": "0",
          "x": "equipment failure",
          "xref": "x",
          "y": "intentional attack",
          "yref": "y"
         },
         {
          "font": {
           "color": "#000000"
          },
          "showarrow": false,
          "text": "0",
          "x": "fuel supply emergency",
          "xref": "x",
          "y": "intentional attack",
          "yref": "y"
         },
         {
          "font": {
           "color": "#000000"
          },
          "showarrow": false,
          "text": "40",
          "x": "intentional attack",
          "xref": "x",
          "y": "intentional attack",
          "yref": "y"
         },
         {
          "font": {
           "color": "#000000"
          },
          "showarrow": false,
          "text": "0",
          "x": "islanding",
          "xref": "x",
          "y": "intentional attack",
          "yref": "y"
         },
         {
          "font": {
           "color": "#000000"
          },
          "showarrow": false,
          "text": "0",
          "x": "public appeal",
          "xref": "x",
          "y": "intentional attack",
          "yref": "y"
         },
         {
          "font": {
           "color": "#000000"
          },
          "showarrow": false,
          "text": "1",
          "x": "severe weather",
          "xref": "x",
          "y": "intentional attack",
          "yref": "y"
         },
         {
          "font": {
           "color": "#000000"
          },
          "showarrow": false,
          "text": "0",
          "x": "system operability disruption",
          "xref": "x",
          "y": "intentional attack",
          "yref": "y"
         },
         {
          "font": {
           "color": "#000000"
          },
          "showarrow": false,
          "text": "0",
          "x": "equipment failure",
          "xref": "x",
          "y": "fuel supply emergency",
          "yref": "y"
         },
         {
          "font": {
           "color": "#000000"
          },
          "showarrow": false,
          "text": "0",
          "x": "fuel supply emergency",
          "xref": "x",
          "y": "fuel supply emergency",
          "yref": "y"
         },
         {
          "font": {
           "color": "#000000"
          },
          "showarrow": false,
          "text": "1",
          "x": "intentional attack",
          "xref": "x",
          "y": "fuel supply emergency",
          "yref": "y"
         },
         {
          "font": {
           "color": "#000000"
          },
          "showarrow": false,
          "text": "0",
          "x": "islanding",
          "xref": "x",
          "y": "fuel supply emergency",
          "yref": "y"
         },
         {
          "font": {
           "color": "#000000"
          },
          "showarrow": false,
          "text": "0",
          "x": "public appeal",
          "xref": "x",
          "y": "fuel supply emergency",
          "yref": "y"
         },
         {
          "font": {
           "color": "#000000"
          },
          "showarrow": false,
          "text": "0",
          "x": "severe weather",
          "xref": "x",
          "y": "fuel supply emergency",
          "yref": "y"
         },
         {
          "font": {
           "color": "#000000"
          },
          "showarrow": false,
          "text": "0",
          "x": "system operability disruption",
          "xref": "x",
          "y": "fuel supply emergency",
          "yref": "y"
         },
         {
          "font": {
           "color": "#000000"
          },
          "showarrow": false,
          "text": "0",
          "x": "equipment failure",
          "xref": "x",
          "y": "equipment failure",
          "yref": "y"
         },
         {
          "font": {
           "color": "#000000"
          },
          "showarrow": false,
          "text": "0",
          "x": "fuel supply emergency",
          "xref": "x",
          "y": "equipment failure",
          "yref": "y"
         },
         {
          "font": {
           "color": "#000000"
          },
          "showarrow": false,
          "text": "0",
          "x": "intentional attack",
          "xref": "x",
          "y": "equipment failure",
          "yref": "y"
         },
         {
          "font": {
           "color": "#000000"
          },
          "showarrow": false,
          "text": "0",
          "x": "islanding",
          "xref": "x",
          "y": "equipment failure",
          "yref": "y"
         },
         {
          "font": {
           "color": "#000000"
          },
          "showarrow": false,
          "text": "0",
          "x": "public appeal",
          "xref": "x",
          "y": "equipment failure",
          "yref": "y"
         },
         {
          "font": {
           "color": "#000000"
          },
          "showarrow": false,
          "text": "5",
          "x": "severe weather",
          "xref": "x",
          "y": "equipment failure",
          "yref": "y"
         },
         {
          "font": {
           "color": "#000000"
          },
          "showarrow": false,
          "text": "1",
          "x": "system operability disruption",
          "xref": "x",
          "y": "equipment failure",
          "yref": "y"
         }
        ],
        "template": {
         "data": {
          "bar": [
           {
            "error_x": {
             "color": "#2a3f5f"
            },
            "error_y": {
             "color": "#2a3f5f"
            },
            "marker": {
             "line": {
              "color": "#E5ECF6",
              "width": 0.5
             },
             "pattern": {
              "fillmode": "overlay",
              "size": 10,
              "solidity": 0.2
             }
            },
            "type": "bar"
           }
          ],
          "barpolar": [
           {
            "marker": {
             "line": {
              "color": "#E5ECF6",
              "width": 0.5
             },
             "pattern": {
              "fillmode": "overlay",
              "size": 10,
              "solidity": 0.2
             }
            },
            "type": "barpolar"
           }
          ],
          "carpet": [
           {
            "aaxis": {
             "endlinecolor": "#2a3f5f",
             "gridcolor": "white",
             "linecolor": "white",
             "minorgridcolor": "white",
             "startlinecolor": "#2a3f5f"
            },
            "baxis": {
             "endlinecolor": "#2a3f5f",
             "gridcolor": "white",
             "linecolor": "white",
             "minorgridcolor": "white",
             "startlinecolor": "#2a3f5f"
            },
            "type": "carpet"
           }
          ],
          "choropleth": [
           {
            "colorbar": {
             "outlinewidth": 0,
             "ticks": ""
            },
            "type": "choropleth"
           }
          ],
          "contour": [
           {
            "colorbar": {
             "outlinewidth": 0,
             "ticks": ""
            },
            "colorscale": [
             [
              0,
              "#0d0887"
             ],
             [
              0.1111111111111111,
              "#46039f"
             ],
             [
              0.2222222222222222,
              "#7201a8"
             ],
             [
              0.3333333333333333,
              "#9c179e"
             ],
             [
              0.4444444444444444,
              "#bd3786"
             ],
             [
              0.5555555555555556,
              "#d8576b"
             ],
             [
              0.6666666666666666,
              "#ed7953"
             ],
             [
              0.7777777777777778,
              "#fb9f3a"
             ],
             [
              0.8888888888888888,
              "#fdca26"
             ],
             [
              1,
              "#f0f921"
             ]
            ],
            "type": "contour"
           }
          ],
          "contourcarpet": [
           {
            "colorbar": {
             "outlinewidth": 0,
             "ticks": ""
            },
            "type": "contourcarpet"
           }
          ],
          "heatmap": [
           {
            "colorbar": {
             "outlinewidth": 0,
             "ticks": ""
            },
            "colorscale": [
             [
              0,
              "#0d0887"
             ],
             [
              0.1111111111111111,
              "#46039f"
             ],
             [
              0.2222222222222222,
              "#7201a8"
             ],
             [
              0.3333333333333333,
              "#9c179e"
             ],
             [
              0.4444444444444444,
              "#bd3786"
             ],
             [
              0.5555555555555556,
              "#d8576b"
             ],
             [
              0.6666666666666666,
              "#ed7953"
             ],
             [
              0.7777777777777778,
              "#fb9f3a"
             ],
             [
              0.8888888888888888,
              "#fdca26"
             ],
             [
              1,
              "#f0f921"
             ]
            ],
            "type": "heatmap"
           }
          ],
          "heatmapgl": [
           {
            "colorbar": {
             "outlinewidth": 0,
             "ticks": ""
            },
            "colorscale": [
             [
              0,
              "#0d0887"
             ],
             [
              0.1111111111111111,
              "#46039f"
             ],
             [
              0.2222222222222222,
              "#7201a8"
             ],
             [
              0.3333333333333333,
              "#9c179e"
             ],
             [
              0.4444444444444444,
              "#bd3786"
             ],
             [
              0.5555555555555556,
              "#d8576b"
             ],
             [
              0.6666666666666666,
              "#ed7953"
             ],
             [
              0.7777777777777778,
              "#fb9f3a"
             ],
             [
              0.8888888888888888,
              "#fdca26"
             ],
             [
              1,
              "#f0f921"
             ]
            ],
            "type": "heatmapgl"
           }
          ],
          "histogram": [
           {
            "marker": {
             "pattern": {
              "fillmode": "overlay",
              "size": 10,
              "solidity": 0.2
             }
            },
            "type": "histogram"
           }
          ],
          "histogram2d": [
           {
            "colorbar": {
             "outlinewidth": 0,
             "ticks": ""
            },
            "colorscale": [
             [
              0,
              "#0d0887"
             ],
             [
              0.1111111111111111,
              "#46039f"
             ],
             [
              0.2222222222222222,
              "#7201a8"
             ],
             [
              0.3333333333333333,
              "#9c179e"
             ],
             [
              0.4444444444444444,
              "#bd3786"
             ],
             [
              0.5555555555555556,
              "#d8576b"
             ],
             [
              0.6666666666666666,
              "#ed7953"
             ],
             [
              0.7777777777777778,
              "#fb9f3a"
             ],
             [
              0.8888888888888888,
              "#fdca26"
             ],
             [
              1,
              "#f0f921"
             ]
            ],
            "type": "histogram2d"
           }
          ],
          "histogram2dcontour": [
           {
            "colorbar": {
             "outlinewidth": 0,
             "ticks": ""
            },
            "colorscale": [
             [
              0,
              "#0d0887"
             ],
             [
              0.1111111111111111,
              "#46039f"
             ],
             [
              0.2222222222222222,
              "#7201a8"
             ],
             [
              0.3333333333333333,
              "#9c179e"
             ],
             [
              0.4444444444444444,
              "#bd3786"
             ],
             [
              0.5555555555555556,
              "#d8576b"
             ],
             [
              0.6666666666666666,
              "#ed7953"
             ],
             [
              0.7777777777777778,
              "#fb9f3a"
             ],
             [
              0.8888888888888888,
              "#fdca26"
             ],
             [
              1,
              "#f0f921"
             ]
            ],
            "type": "histogram2dcontour"
           }
          ],
          "mesh3d": [
           {
            "colorbar": {
             "outlinewidth": 0,
             "ticks": ""
            },
            "type": "mesh3d"
           }
          ],
          "parcoords": [
           {
            "line": {
             "colorbar": {
              "outlinewidth": 0,
              "ticks": ""
             }
            },
            "type": "parcoords"
           }
          ],
          "pie": [
           {
            "automargin": true,
            "type": "pie"
           }
          ],
          "scatter": [
           {
            "fillpattern": {
             "fillmode": "overlay",
             "size": 10,
             "solidity": 0.2
            },
            "type": "scatter"
           }
          ],
          "scatter3d": [
           {
            "line": {
             "colorbar": {
              "outlinewidth": 0,
              "ticks": ""
             }
            },
            "marker": {
             "colorbar": {
              "outlinewidth": 0,
              "ticks": ""
             }
            },
            "type": "scatter3d"
           }
          ],
          "scattercarpet": [
           {
            "marker": {
             "colorbar": {
              "outlinewidth": 0,
              "ticks": ""
             }
            },
            "type": "scattercarpet"
           }
          ],
          "scattergeo": [
           {
            "marker": {
             "colorbar": {
              "outlinewidth": 0,
              "ticks": ""
             }
            },
            "type": "scattergeo"
           }
          ],
          "scattergl": [
           {
            "marker": {
             "colorbar": {
              "outlinewidth": 0,
              "ticks": ""
             }
            },
            "type": "scattergl"
           }
          ],
          "scattermapbox": [
           {
            "marker": {
             "colorbar": {
              "outlinewidth": 0,
              "ticks": ""
             }
            },
            "type": "scattermapbox"
           }
          ],
          "scatterpolar": [
           {
            "marker": {
             "colorbar": {
              "outlinewidth": 0,
              "ticks": ""
             }
            },
            "type": "scatterpolar"
           }
          ],
          "scatterpolargl": [
           {
            "marker": {
             "colorbar": {
              "outlinewidth": 0,
              "ticks": ""
             }
            },
            "type": "scatterpolargl"
           }
          ],
          "scatterternary": [
           {
            "marker": {
             "colorbar": {
              "outlinewidth": 0,
              "ticks": ""
             }
            },
            "type": "scatterternary"
           }
          ],
          "surface": [
           {
            "colorbar": {
             "outlinewidth": 0,
             "ticks": ""
            },
            "colorscale": [
             [
              0,
              "#0d0887"
             ],
             [
              0.1111111111111111,
              "#46039f"
             ],
             [
              0.2222222222222222,
              "#7201a8"
             ],
             [
              0.3333333333333333,
              "#9c179e"
             ],
             [
              0.4444444444444444,
              "#bd3786"
             ],
             [
              0.5555555555555556,
              "#d8576b"
             ],
             [
              0.6666666666666666,
              "#ed7953"
             ],
             [
              0.7777777777777778,
              "#fb9f3a"
             ],
             [
              0.8888888888888888,
              "#fdca26"
             ],
             [
              1,
              "#f0f921"
             ]
            ],
            "type": "surface"
           }
          ],
          "table": [
           {
            "cells": {
             "fill": {
              "color": "#EBF0F8"
             },
             "line": {
              "color": "white"
             }
            },
            "header": {
             "fill": {
              "color": "#C8D4E3"
             },
             "line": {
              "color": "white"
             }
            },
            "type": "table"
           }
          ]
         },
         "layout": {
          "annotationdefaults": {
           "arrowcolor": "#2a3f5f",
           "arrowhead": 0,
           "arrowwidth": 1
          },
          "autotypenumbers": "strict",
          "coloraxis": {
           "colorbar": {
            "outlinewidth": 0,
            "ticks": ""
           }
          },
          "colorscale": {
           "diverging": [
            [
             0,
             "#8e0152"
            ],
            [
             0.1,
             "#c51b7d"
            ],
            [
             0.2,
             "#de77ae"
            ],
            [
             0.3,
             "#f1b6da"
            ],
            [
             0.4,
             "#fde0ef"
            ],
            [
             0.5,
             "#f7f7f7"
            ],
            [
             0.6,
             "#e6f5d0"
            ],
            [
             0.7,
             "#b8e186"
            ],
            [
             0.8,
             "#7fbc41"
            ],
            [
             0.9,
             "#4d9221"
            ],
            [
             1,
             "#276419"
            ]
           ],
           "sequential": [
            [
             0,
             "#0d0887"
            ],
            [
             0.1111111111111111,
             "#46039f"
            ],
            [
             0.2222222222222222,
             "#7201a8"
            ],
            [
             0.3333333333333333,
             "#9c179e"
            ],
            [
             0.4444444444444444,
             "#bd3786"
            ],
            [
             0.5555555555555556,
             "#d8576b"
            ],
            [
             0.6666666666666666,
             "#ed7953"
            ],
            [
             0.7777777777777778,
             "#fb9f3a"
            ],
            [
             0.8888888888888888,
             "#fdca26"
            ],
            [
             1,
             "#f0f921"
            ]
           ],
           "sequentialminus": [
            [
             0,
             "#0d0887"
            ],
            [
             0.1111111111111111,
             "#46039f"
            ],
            [
             0.2222222222222222,
             "#7201a8"
            ],
            [
             0.3333333333333333,
             "#9c179e"
            ],
            [
             0.4444444444444444,
             "#bd3786"
            ],
            [
             0.5555555555555556,
             "#d8576b"
            ],
            [
             0.6666666666666666,
             "#ed7953"
            ],
            [
             0.7777777777777778,
             "#fb9f3a"
            ],
            [
             0.8888888888888888,
             "#fdca26"
            ],
            [
             1,
             "#f0f921"
            ]
           ]
          },
          "colorway": [
           "#636efa",
           "#EF553B",
           "#00cc96",
           "#ab63fa",
           "#FFA15A",
           "#19d3f3",
           "#FF6692",
           "#B6E880",
           "#FF97FF",
           "#FECB52"
          ],
          "font": {
           "color": "#2a3f5f"
          },
          "geo": {
           "bgcolor": "white",
           "lakecolor": "white",
           "landcolor": "#E5ECF6",
           "showlakes": true,
           "showland": true,
           "subunitcolor": "white"
          },
          "hoverlabel": {
           "align": "left"
          },
          "hovermode": "closest",
          "mapbox": {
           "style": "light"
          },
          "paper_bgcolor": "white",
          "plot_bgcolor": "#E5ECF6",
          "polar": {
           "angularaxis": {
            "gridcolor": "white",
            "linecolor": "white",
            "ticks": ""
           },
           "bgcolor": "#E5ECF6",
           "radialaxis": {
            "gridcolor": "white",
            "linecolor": "white",
            "ticks": ""
           }
          },
          "scene": {
           "xaxis": {
            "backgroundcolor": "#E5ECF6",
            "gridcolor": "white",
            "gridwidth": 2,
            "linecolor": "white",
            "showbackground": true,
            "ticks": "",
            "zerolinecolor": "white"
           },
           "yaxis": {
            "backgroundcolor": "#E5ECF6",
            "gridcolor": "white",
            "gridwidth": 2,
            "linecolor": "white",
            "showbackground": true,
            "ticks": "",
            "zerolinecolor": "white"
           },
           "zaxis": {
            "backgroundcolor": "#E5ECF6",
            "gridcolor": "white",
            "gridwidth": 2,
            "linecolor": "white",
            "showbackground": true,
            "ticks": "",
            "zerolinecolor": "white"
           }
          },
          "shapedefaults": {
           "line": {
            "color": "#2a3f5f"
           }
          },
          "ternary": {
           "aaxis": {
            "gridcolor": "white",
            "linecolor": "white",
            "ticks": ""
           },
           "baxis": {
            "gridcolor": "white",
            "linecolor": "white",
            "ticks": ""
           },
           "bgcolor": "#E5ECF6",
           "caxis": {
            "gridcolor": "white",
            "linecolor": "white",
            "ticks": ""
           }
          },
          "title": {
           "x": 0.05
          },
          "xaxis": {
           "automargin": true,
           "gridcolor": "white",
           "linecolor": "white",
           "ticks": "",
           "title": {
            "standoff": 15
           },
           "zerolinecolor": "white",
           "zerolinewidth": 2
          },
          "yaxis": {
           "automargin": true,
           "gridcolor": "white",
           "linecolor": "white",
           "ticks": "",
           "title": {
            "standoff": 15
           },
           "zerolinecolor": "white",
           "zerolinewidth": 2
          }
         }
        },
        "title": {
         "text": "Confusion Matrix"
        },
        "xaxis": {
         "dtick": 1,
         "gridcolor": "rgb(0, 0, 0)",
         "side": "top",
         "ticks": "",
         "title": {
          "text": "Predicted Label"
         }
        },
        "yaxis": {
         "dtick": 1,
         "ticks": "",
         "ticksuffix": "  ",
         "title": {
          "text": "True Label"
         }
        }
       }
      }
     },
     "metadata": {},
     "output_type": "display_data"
    }
   ],
   "source": [
    "import plotly.figure_factory as ff\n",
    "from sklearn.metrics import confusion_matrix\n",
    "\n",
    "# Replace 'y_test' and 'prediction' with your actual test labels and predictions\n",
    "# Example data (replace this with your actual data)\n",
    "\n",
    "\n",
    "# Replace these labels with your specific category names\n",
    "category_labels = [\n",
    "    'equipment failure',\n",
    "    'fuel supply emergency',\n",
    "    'intentional attack',\n",
    "    'islanding',\n",
    "    'public appeal',\n",
    "    'severe weather',\n",
    "    'system operability disruption'\n",
    "]\n",
    "\n",
    "\n",
    "# Calculate the confusion matrix\n",
    "cm = confusion_matrix(check_diff_class['actual'], check_diff_class['prediction'])\n",
    "\n",
    "# Create a Plotly heatmap for the confusion matrix\n",
    "fig = ff.create_annotated_heatmap(z=cm[::-1,:], x=category_labels, y=category_labels[::-1], colorscale='Blues')\n",
    "\n",
    "# Update the layout\n",
    "fig.update_layout(title='Confusion Matrix',\n",
    "                  xaxis=dict(title='Predicted Label'),\n",
    "                  yaxis=dict(title='True Label'))\n",
    "\n",
    "# Display the confusion matrix\n",
    "fig.show()\n",
    "#fig.write_html('confusion_matrix.html', include_plotlyjs='cdn')\n"
   ]
  },
  {
   "cell_type": "code",
   "execution_count": 428,
   "metadata": {},
   "outputs": [
    {
     "data": {
      "text/plain": [
       "array([[  9,   9,   0,   0,   1,   0,   0],\n",
       "       [  0, 133,   0,   0,   0,   0,   0],\n",
       "       [  0,   4,   1,   0,   0,   0,   0],\n",
       "       [  0,   1,   0,   6,   0,   0,   0],\n",
       "       [  0,   1,   0,   0,  40,   0,   0],\n",
       "       [  0,   0,   0,   0,   1,   0,   0],\n",
       "       [  1,   5,   0,   0,   0,   0,   0]], dtype=int64)"
      ]
     },
     "execution_count": 428,
     "metadata": {},
     "output_type": "execute_result"
    }
   ],
   "source": [
    "cm[::-1,::-1]"
   ]
  },
  {
   "cell_type": "code",
   "execution_count": 429,
   "metadata": {},
   "outputs": [
    {
     "name": "stderr",
     "output_type": "stream",
     "text": [
      "c:\\Users\\ecao7\\anaconda3\\envs\\dsc80\\lib\\site-packages\\sklearn\\metrics\\_classification.py:1318: UndefinedMetricWarning:\n",
      "\n",
      "Precision is ill-defined and being set to 0.0 in labels with no predicted samples. Use `zero_division` parameter to control this behavior.\n",
      "\n"
     ]
    }
   ],
   "source": [
    "from sklearn.metrics import precision_score, recall_score\n",
    "\n",
    "# Assuming 'y_test' contains the true labels and 'prediction' contains predicted labels\n",
    "precision = precision_score(y_test, prediction, average='weighted')\n",
    "recall = recall_score(y_test, prediction, average='weighted')"
   ]
  },
  {
   "cell_type": "code",
   "execution_count": 430,
   "metadata": {},
   "outputs": [
    {
     "data": {
      "text/plain": [
       "0.866801877983898"
      ]
     },
     "execution_count": 430,
     "metadata": {},
     "output_type": "execute_result"
    }
   ],
   "source": [
    "precision"
   ]
  },
  {
   "cell_type": "code",
   "execution_count": 431,
   "metadata": {},
   "outputs": [
    {
     "data": {
      "text/plain": [
       "0.8915094339622641"
      ]
     },
     "execution_count": 431,
     "metadata": {},
     "output_type": "execute_result"
    }
   ],
   "source": [
    "recall"
   ]
  },
  {
   "cell_type": "code",
   "execution_count": 432,
   "metadata": {},
   "outputs": [
    {
     "name": "stdout",
     "output_type": "stream",
     "text": [
      "Observed accuracy difference: 1.0000\n",
      "P-value: 1.0000\n"
     ]
    }
   ],
   "source": [
    "import pandas as pd\n",
    "import numpy as np\n",
    "from sklearn.metrics import accuracy_score\n",
    "\n",
    "# Sample data (replace this with your actual dataset)\n",
    "df = check_diff_class\n",
    "\n",
    "# Binarize 'prediction' into 'severe_weather' (1 for 'severe weather', 0 otherwise)\n",
    "df['severe_weather'] = np.where(df['prediction'] == 'severe weather', 1, 0)\n",
    "\n",
    "# Calculate the observed accuracy difference between 'severe weather' and 'not severe weather'\n",
    "observed_accuracy_diff = df[df['severe_weather'] == 1]['severe_weather'].mean() - \\\n",
    "                         df[df['severe_weather'] == 0]['severe_weather'].mean()\n",
    "\n",
    "# Permutation test to check if there's a significant difference\n",
    "num_permutations = 1000\n",
    "accuracy_diffs = []\n",
    "\n",
    "for _ in range(num_permutations):\n",
    "    # Shuffle the 'severe_weather' labels\n",
    "    shuffled_labels = np.random.permutation(df['severe_weather'].values)\n",
    "    \n",
    "    # Assign shuffled labels back to the DataFrame\n",
    "    shuffled_df = df.assign(severe_weather=shuffled_labels)\n",
    "    \n",
    "    # Calculate accuracy difference for shuffled labels\n",
    "    accuracy_diff = shuffled_df[shuffled_df['severe_weather'] == 1]['severe_weather'].mean() - \\\n",
    "                    shuffled_df[shuffled_df['severe_weather'] == 0]['severe_weather'].mean()\n",
    "    \n",
    "    accuracy_diffs.append(accuracy_diff)\n",
    "\n",
    "# Calculate p-value\n",
    "p_value = (np.abs(accuracy_diffs) >= np.abs(observed_accuracy_diff)).mean()\n",
    "\n",
    "print(f\"Observed accuracy difference: {observed_accuracy_diff:.4f}\")\n",
    "print(f\"P-value: {p_value:.4f}\")\n"
   ]
  },
  {
   "cell_type": "code",
   "execution_count": null,
   "metadata": {},
   "outputs": [],
   "source": []
  }
 ],
 "metadata": {
  "kernelspec": {
   "display_name": "Python 3 (ipykernel)",
   "language": "python",
   "name": "python3"
  },
  "language_info": {
   "codemirror_mode": {
    "name": "ipython",
    "version": 3
   },
   "file_extension": ".py",
   "mimetype": "text/x-python",
   "name": "python",
   "nbconvert_exporter": "python",
   "pygments_lexer": "ipython3",
   "version": "3.8.18"
  }
 },
 "nbformat": 4,
 "nbformat_minor": 2
}
